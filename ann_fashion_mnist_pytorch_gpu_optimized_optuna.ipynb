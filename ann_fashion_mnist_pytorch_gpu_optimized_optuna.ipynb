{
  "cells": [
    {
      "cell_type": "markdown",
      "metadata": {
        "id": "view-in-github",
        "colab_type": "text"
      },
      "source": [
        "<a href=\"https://colab.research.google.com/github/Harish-lvrk/PyTorch/blob/main/ann_fashion_mnist_pytorch_gpu_optimized_optuna.ipynb\" target=\"_parent\"><img src=\"https://colab.research.google.com/assets/colab-badge.svg\" alt=\"Open In Colab\"/></a>"
      ]
    },
    {
      "cell_type": "markdown",
      "metadata": {
        "id": "8qTuOdR02Enx"
      },
      "source": [
        "# ANN on Fashion MNIST with PyTorch, GPU, and Optuna Hyperparameter Tuning"
      ],
      "id": "8qTuOdR02Enx"
    },
    {
      "cell_type": "code",
      "source": [
        "!pip install optuna mlflow optuna-integration[mlflow] --quiet"
      ],
      "metadata": {
        "colab": {
          "base_uri": "https://localhost:8080/"
        },
        "id": "DIe0h7C52fxy",
        "outputId": "e76371da-f8f3-42d3-b25b-f0ca1b09b943"
      },
      "id": "DIe0h7C52fxy",
      "execution_count": null,
      "outputs": [
        {
          "output_type": "stream",
          "name": "stdout",
          "text": [
            "\u001b[33mWARNING: Ignoring invalid distribution ~erkzeug (/usr/local/lib/python3.12/dist-packages)\u001b[0m\u001b[33m\n",
            "\u001b[2K   \u001b[90m━━━━━━━━━━━━━━━━━━━━━━━━━━━━━━━━━━━━━━━━\u001b[0m \u001b[32m99.1/99.1 kB\u001b[0m \u001b[31m2.8 MB/s\u001b[0m eta \u001b[36m0:00:00\u001b[0m\n",
            "\u001b[?25h\u001b[33mWARNING: Ignoring invalid distribution ~erkzeug (/usr/local/lib/python3.12/dist-packages)\u001b[0m\u001b[33m\n",
            "\u001b[0m\u001b[33mWARNING: Ignoring invalid distribution ~erkzeug (/usr/local/lib/python3.12/dist-packages)\u001b[0m\u001b[33m\n",
            "\u001b[0m\u001b[33mWARNING: Ignoring invalid distribution ~erkzeug (/usr/local/lib/python3.12/dist-packages)\u001b[0m\u001b[33m\n",
            "\u001b[0m"
          ]
        }
      ]
    },
    {
      "cell_type": "markdown",
      "metadata": {
        "id": "qpQhpiLM2Eny"
      },
      "source": [
        "## 1. Setup and Imports"
      ],
      "id": "qpQhpiLM2Eny"
    },
    {
      "cell_type": "code",
      "execution_count": null,
      "metadata": {
        "id": "sAhf0WaQ2Eny"
      },
      "outputs": [],
      "source": [
        "import pandas as pd\n",
        "from sklearn.model_selection import train_test_split\n",
        "import torch\n",
        "from torch.utils.data import Dataset, DataLoader\n",
        "import torch.nn as nn\n",
        "import torch.optim as optim\n",
        "import matplotlib.pyplot as plt\n",
        "import optuna\n",
        "import mlflow"
      ],
      "id": "sAhf0WaQ2Eny"
    },
    {
      "cell_type": "markdown",
      "metadata": {
        "id": "_eG2IFNk2Enz"
      },
      "source": [
        "## 2. Device Configuration"
      ],
      "id": "_eG2IFNk2Enz"
    },
    {
      "cell_type": "code",
      "execution_count": null,
      "metadata": {
        "colab": {
          "base_uri": "https://localhost:8080/"
        },
        "id": "RJXR5mdt2Enz",
        "outputId": "4ecc8ab8-3b25-403c-82af-178ff8b40364"
      },
      "outputs": [
        {
          "output_type": "stream",
          "name": "stdout",
          "text": [
            "Using device: cpu\n"
          ]
        }
      ],
      "source": [
        "# Set random seeds for reproducibility\n",
        "torch.manual_seed(42)\n",
        "\n",
        "# Check for GPU\n",
        "device = torch.device('cuda' if torch.cuda.is_available() else 'cpu')\n",
        "print(f\"Using device: {device}\")"
      ],
      "id": "RJXR5mdt2Enz"
    },
    {
      "cell_type": "markdown",
      "metadata": {
        "id": "TeiL75972Enz"
      },
      "source": [
        "## 3. Load and Visualize Data"
      ],
      "id": "TeiL75972Enz"
    },
    {
      "cell_type": "code",
      "execution_count": null,
      "metadata": {
        "colab": {
          "base_uri": "https://localhost:8080/",
          "height": 274
        },
        "id": "0Ye9JrLA2En0",
        "outputId": "697bdce8-ccb0-46c8-a44d-ab78e7d1b6e4"
      },
      "outputs": [
        {
          "output_type": "stream",
          "name": "stdout",
          "text": [
            "Dataset shape: (6000, 785)\n"
          ]
        },
        {
          "output_type": "execute_result",
          "data": {
            "text/plain": [
              "   label  pixel1  pixel2  pixel3  pixel4  pixel5  pixel6  pixel7  pixel8  \\\n",
              "0      9       0       0       0       0       0       0       0       0   \n",
              "1      7       0       0       0       0       0       0       0       0   \n",
              "2      0       0       0       0       0       0       1       0       0   \n",
              "3      8       0       0       0       0       0       0       0       0   \n",
              "4      8       0       0       0       0       0       0       0       0   \n",
              "\n",
              "   pixel9  ...  pixel775  pixel776  pixel777  pixel778  pixel779  pixel780  \\\n",
              "0       0  ...         0         7         0        50       205       196   \n",
              "1       0  ...         0         0         0         0         0         0   \n",
              "2       0  ...       142       142       142        21         0         3   \n",
              "3       0  ...         0         0         0         0         0         0   \n",
              "4       0  ...       213       203       174       151       188        10   \n",
              "\n",
              "   pixel781  pixel782  pixel783  pixel784  \n",
              "0       213       165         0         0  \n",
              "1         0         0         0         0  \n",
              "2         0         0         0         0  \n",
              "3         0         0         0         0  \n",
              "4         0         0         0         0  \n",
              "\n",
              "[5 rows x 785 columns]"
            ],
            "text/html": [
              "\n",
              "  <div id=\"df-67737d84-2dfb-436b-ab0f-dbee14dae07a\" class=\"colab-df-container\">\n",
              "    <div>\n",
              "<style scoped>\n",
              "    .dataframe tbody tr th:only-of-type {\n",
              "        vertical-align: middle;\n",
              "    }\n",
              "\n",
              "    .dataframe tbody tr th {\n",
              "        vertical-align: top;\n",
              "    }\n",
              "\n",
              "    .dataframe thead th {\n",
              "        text-align: right;\n",
              "    }\n",
              "</style>\n",
              "<table border=\"1\" class=\"dataframe\">\n",
              "  <thead>\n",
              "    <tr style=\"text-align: right;\">\n",
              "      <th></th>\n",
              "      <th>label</th>\n",
              "      <th>pixel1</th>\n",
              "      <th>pixel2</th>\n",
              "      <th>pixel3</th>\n",
              "      <th>pixel4</th>\n",
              "      <th>pixel5</th>\n",
              "      <th>pixel6</th>\n",
              "      <th>pixel7</th>\n",
              "      <th>pixel8</th>\n",
              "      <th>pixel9</th>\n",
              "      <th>...</th>\n",
              "      <th>pixel775</th>\n",
              "      <th>pixel776</th>\n",
              "      <th>pixel777</th>\n",
              "      <th>pixel778</th>\n",
              "      <th>pixel779</th>\n",
              "      <th>pixel780</th>\n",
              "      <th>pixel781</th>\n",
              "      <th>pixel782</th>\n",
              "      <th>pixel783</th>\n",
              "      <th>pixel784</th>\n",
              "    </tr>\n",
              "  </thead>\n",
              "  <tbody>\n",
              "    <tr>\n",
              "      <th>0</th>\n",
              "      <td>9</td>\n",
              "      <td>0</td>\n",
              "      <td>0</td>\n",
              "      <td>0</td>\n",
              "      <td>0</td>\n",
              "      <td>0</td>\n",
              "      <td>0</td>\n",
              "      <td>0</td>\n",
              "      <td>0</td>\n",
              "      <td>0</td>\n",
              "      <td>...</td>\n",
              "      <td>0</td>\n",
              "      <td>7</td>\n",
              "      <td>0</td>\n",
              "      <td>50</td>\n",
              "      <td>205</td>\n",
              "      <td>196</td>\n",
              "      <td>213</td>\n",
              "      <td>165</td>\n",
              "      <td>0</td>\n",
              "      <td>0</td>\n",
              "    </tr>\n",
              "    <tr>\n",
              "      <th>1</th>\n",
              "      <td>7</td>\n",
              "      <td>0</td>\n",
              "      <td>0</td>\n",
              "      <td>0</td>\n",
              "      <td>0</td>\n",
              "      <td>0</td>\n",
              "      <td>0</td>\n",
              "      <td>0</td>\n",
              "      <td>0</td>\n",
              "      <td>0</td>\n",
              "      <td>...</td>\n",
              "      <td>0</td>\n",
              "      <td>0</td>\n",
              "      <td>0</td>\n",
              "      <td>0</td>\n",
              "      <td>0</td>\n",
              "      <td>0</td>\n",
              "      <td>0</td>\n",
              "      <td>0</td>\n",
              "      <td>0</td>\n",
              "      <td>0</td>\n",
              "    </tr>\n",
              "    <tr>\n",
              "      <th>2</th>\n",
              "      <td>0</td>\n",
              "      <td>0</td>\n",
              "      <td>0</td>\n",
              "      <td>0</td>\n",
              "      <td>0</td>\n",
              "      <td>0</td>\n",
              "      <td>1</td>\n",
              "      <td>0</td>\n",
              "      <td>0</td>\n",
              "      <td>0</td>\n",
              "      <td>...</td>\n",
              "      <td>142</td>\n",
              "      <td>142</td>\n",
              "      <td>142</td>\n",
              "      <td>21</td>\n",
              "      <td>0</td>\n",
              "      <td>3</td>\n",
              "      <td>0</td>\n",
              "      <td>0</td>\n",
              "      <td>0</td>\n",
              "      <td>0</td>\n",
              "    </tr>\n",
              "    <tr>\n",
              "      <th>3</th>\n",
              "      <td>8</td>\n",
              "      <td>0</td>\n",
              "      <td>0</td>\n",
              "      <td>0</td>\n",
              "      <td>0</td>\n",
              "      <td>0</td>\n",
              "      <td>0</td>\n",
              "      <td>0</td>\n",
              "      <td>0</td>\n",
              "      <td>0</td>\n",
              "      <td>...</td>\n",
              "      <td>0</td>\n",
              "      <td>0</td>\n",
              "      <td>0</td>\n",
              "      <td>0</td>\n",
              "      <td>0</td>\n",
              "      <td>0</td>\n",
              "      <td>0</td>\n",
              "      <td>0</td>\n",
              "      <td>0</td>\n",
              "      <td>0</td>\n",
              "    </tr>\n",
              "    <tr>\n",
              "      <th>4</th>\n",
              "      <td>8</td>\n",
              "      <td>0</td>\n",
              "      <td>0</td>\n",
              "      <td>0</td>\n",
              "      <td>0</td>\n",
              "      <td>0</td>\n",
              "      <td>0</td>\n",
              "      <td>0</td>\n",
              "      <td>0</td>\n",
              "      <td>0</td>\n",
              "      <td>...</td>\n",
              "      <td>213</td>\n",
              "      <td>203</td>\n",
              "      <td>174</td>\n",
              "      <td>151</td>\n",
              "      <td>188</td>\n",
              "      <td>10</td>\n",
              "      <td>0</td>\n",
              "      <td>0</td>\n",
              "      <td>0</td>\n",
              "      <td>0</td>\n",
              "    </tr>\n",
              "  </tbody>\n",
              "</table>\n",
              "<p>5 rows × 785 columns</p>\n",
              "</div>\n",
              "    <div class=\"colab-df-buttons\">\n",
              "\n",
              "  <div class=\"colab-df-container\">\n",
              "    <button class=\"colab-df-convert\" onclick=\"convertToInteractive('df-67737d84-2dfb-436b-ab0f-dbee14dae07a')\"\n",
              "            title=\"Convert this dataframe to an interactive table.\"\n",
              "            style=\"display:none;\">\n",
              "\n",
              "  <svg xmlns=\"http://www.w3.org/2000/svg\" height=\"24px\" viewBox=\"0 -960 960 960\">\n",
              "    <path d=\"M120-120v-720h720v720H120Zm60-500h600v-160H180v160Zm220 220h160v-160H400v160Zm0 220h160v-160H400v160ZM180-400h160v-160H180v160Zm440 0h160v-160H620v160ZM180-180h160v-160H180v160Zm440 0h160v-160H620v160Z\"/>\n",
              "  </svg>\n",
              "    </button>\n",
              "\n",
              "  <style>\n",
              "    .colab-df-container {\n",
              "      display:flex;\n",
              "      gap: 12px;\n",
              "    }\n",
              "\n",
              "    .colab-df-convert {\n",
              "      background-color: #E8F0FE;\n",
              "      border: none;\n",
              "      border-radius: 50%;\n",
              "      cursor: pointer;\n",
              "      display: none;\n",
              "      fill: #1967D2;\n",
              "      height: 32px;\n",
              "      padding: 0 0 0 0;\n",
              "      width: 32px;\n",
              "    }\n",
              "\n",
              "    .colab-df-convert:hover {\n",
              "      background-color: #E2EBFA;\n",
              "      box-shadow: 0px 1px 2px rgba(60, 64, 67, 0.3), 0px 1px 3px 1px rgba(60, 64, 67, 0.15);\n",
              "      fill: #174EA6;\n",
              "    }\n",
              "\n",
              "    .colab-df-buttons div {\n",
              "      margin-bottom: 4px;\n",
              "    }\n",
              "\n",
              "    [theme=dark] .colab-df-convert {\n",
              "      background-color: #3B4455;\n",
              "      fill: #D2E3FC;\n",
              "    }\n",
              "\n",
              "    [theme=dark] .colab-df-convert:hover {\n",
              "      background-color: #434B5C;\n",
              "      box-shadow: 0px 1px 3px 1px rgba(0, 0, 0, 0.15);\n",
              "      filter: drop-shadow(0px 1px 2px rgba(0, 0, 0, 0.3));\n",
              "      fill: #FFFFFF;\n",
              "    }\n",
              "  </style>\n",
              "\n",
              "    <script>\n",
              "      const buttonEl =\n",
              "        document.querySelector('#df-67737d84-2dfb-436b-ab0f-dbee14dae07a button.colab-df-convert');\n",
              "      buttonEl.style.display =\n",
              "        google.colab.kernel.accessAllowed ? 'block' : 'none';\n",
              "\n",
              "      async function convertToInteractive(key) {\n",
              "        const element = document.querySelector('#df-67737d84-2dfb-436b-ab0f-dbee14dae07a');\n",
              "        const dataTable =\n",
              "          await google.colab.kernel.invokeFunction('convertToInteractive',\n",
              "                                                    [key], {});\n",
              "        if (!dataTable) return;\n",
              "\n",
              "        const docLinkHtml = 'Like what you see? Visit the ' +\n",
              "          '<a target=\"_blank\" href=https://colab.research.google.com/notebooks/data_table.ipynb>data table notebook</a>'\n",
              "          + ' to learn more about interactive tables.';\n",
              "        element.innerHTML = '';\n",
              "        dataTable['output_type'] = 'display_data';\n",
              "        await google.colab.output.renderOutput(dataTable, element);\n",
              "        const docLink = document.createElement('div');\n",
              "        docLink.innerHTML = docLinkHtml;\n",
              "        element.appendChild(docLink);\n",
              "      }\n",
              "    </script>\n",
              "  </div>\n",
              "\n",
              "\n",
              "    <div id=\"df-9ad70214-1edb-480b-a636-aa341b20090f\">\n",
              "      <button class=\"colab-df-quickchart\" onclick=\"quickchart('df-9ad70214-1edb-480b-a636-aa341b20090f')\"\n",
              "                title=\"Suggest charts\"\n",
              "                style=\"display:none;\">\n",
              "\n",
              "<svg xmlns=\"http://www.w3.org/2000/svg\" height=\"24px\"viewBox=\"0 0 24 24\"\n",
              "     width=\"24px\">\n",
              "    <g>\n",
              "        <path d=\"M19 3H5c-1.1 0-2 .9-2 2v14c0 1.1.9 2 2 2h14c1.1 0 2-.9 2-2V5c0-1.1-.9-2-2-2zM9 17H7v-7h2v7zm4 0h-2V7h2v10zm4 0h-2v-4h2v4z\"/>\n",
              "    </g>\n",
              "</svg>\n",
              "      </button>\n",
              "\n",
              "<style>\n",
              "  .colab-df-quickchart {\n",
              "      --bg-color: #E8F0FE;\n",
              "      --fill-color: #1967D2;\n",
              "      --hover-bg-color: #E2EBFA;\n",
              "      --hover-fill-color: #174EA6;\n",
              "      --disabled-fill-color: #AAA;\n",
              "      --disabled-bg-color: #DDD;\n",
              "  }\n",
              "\n",
              "  [theme=dark] .colab-df-quickchart {\n",
              "      --bg-color: #3B4455;\n",
              "      --fill-color: #D2E3FC;\n",
              "      --hover-bg-color: #434B5C;\n",
              "      --hover-fill-color: #FFFFFF;\n",
              "      --disabled-bg-color: #3B4455;\n",
              "      --disabled-fill-color: #666;\n",
              "  }\n",
              "\n",
              "  .colab-df-quickchart {\n",
              "    background-color: var(--bg-color);\n",
              "    border: none;\n",
              "    border-radius: 50%;\n",
              "    cursor: pointer;\n",
              "    display: none;\n",
              "    fill: var(--fill-color);\n",
              "    height: 32px;\n",
              "    padding: 0;\n",
              "    width: 32px;\n",
              "  }\n",
              "\n",
              "  .colab-df-quickchart:hover {\n",
              "    background-color: var(--hover-bg-color);\n",
              "    box-shadow: 0 1px 2px rgba(60, 64, 67, 0.3), 0 1px 3px 1px rgba(60, 64, 67, 0.15);\n",
              "    fill: var(--button-hover-fill-color);\n",
              "  }\n",
              "\n",
              "  .colab-df-quickchart-complete:disabled,\n",
              "  .colab-df-quickchart-complete:disabled:hover {\n",
              "    background-color: var(--disabled-bg-color);\n",
              "    fill: var(--disabled-fill-color);\n",
              "    box-shadow: none;\n",
              "  }\n",
              "\n",
              "  .colab-df-spinner {\n",
              "    border: 2px solid var(--fill-color);\n",
              "    border-color: transparent;\n",
              "    border-bottom-color: var(--fill-color);\n",
              "    animation:\n",
              "      spin 1s steps(1) infinite;\n",
              "  }\n",
              "\n",
              "  @keyframes spin {\n",
              "    0% {\n",
              "      border-color: transparent;\n",
              "      border-bottom-color: var(--fill-color);\n",
              "      border-left-color: var(--fill-color);\n",
              "    }\n",
              "    20% {\n",
              "      border-color: transparent;\n",
              "      border-left-color: var(--fill-color);\n",
              "      border-top-color: var(--fill-color);\n",
              "    }\n",
              "    30% {\n",
              "      border-color: transparent;\n",
              "      border-left-color: var(--fill-color);\n",
              "      border-top-color: var(--fill-color);\n",
              "      border-right-color: var(--fill-color);\n",
              "    }\n",
              "    40% {\n",
              "      border-color: transparent;\n",
              "      border-right-color: var(--fill-color);\n",
              "      border-top-color: var(--fill-color);\n",
              "    }\n",
              "    60% {\n",
              "      border-color: transparent;\n",
              "      border-right-color: var(--fill-color);\n",
              "    }\n",
              "    80% {\n",
              "      border-color: transparent;\n",
              "      border-right-color: var(--fill-color);\n",
              "      border-bottom-color: var(--fill-color);\n",
              "    }\n",
              "    90% {\n",
              "      border-color: transparent;\n",
              "      border-bottom-color: var(--fill-color);\n",
              "    }\n",
              "  }\n",
              "</style>\n",
              "\n",
              "      <script>\n",
              "        async function quickchart(key) {\n",
              "          const quickchartButtonEl =\n",
              "            document.querySelector('#' + key + ' button');\n",
              "          quickchartButtonEl.disabled = true;  // To prevent multiple clicks.\n",
              "          quickchartButtonEl.classList.add('colab-df-spinner');\n",
              "          try {\n",
              "            const charts = await google.colab.kernel.invokeFunction(\n",
              "                'suggestCharts', [key], {});\n",
              "          } catch (error) {\n",
              "            console.error('Error during call to suggestCharts:', error);\n",
              "          }\n",
              "          quickchartButtonEl.classList.remove('colab-df-spinner');\n",
              "          quickchartButtonEl.classList.add('colab-df-quickchart-complete');\n",
              "        }\n",
              "        (() => {\n",
              "          let quickchartButtonEl =\n",
              "            document.querySelector('#df-9ad70214-1edb-480b-a636-aa341b20090f button');\n",
              "          quickchartButtonEl.style.display =\n",
              "            google.colab.kernel.accessAllowed ? 'block' : 'none';\n",
              "        })();\n",
              "      </script>\n",
              "    </div>\n",
              "\n",
              "    </div>\n",
              "  </div>\n"
            ],
            "application/vnd.google.colaboratory.intrinsic+json": {
              "type": "dataframe",
              "variable_name": "df"
            }
          },
          "metadata": {},
          "execution_count": 16
        }
      ],
      "source": [
        "# Note: Make sure 'fmnist_small.csv' is uploaded to your Colab environment\n",
        "df = pd.read_csv('/content/fmnist_small.csv')\n",
        "print(f\"Dataset shape: {df.shape}\")\n",
        "df.head()"
      ],
      "id": "0Ye9JrLA2En0"
    },
    {
      "cell_type": "code",
      "execution_count": null,
      "metadata": {
        "colab": {
          "base_uri": "https://localhost:8080/",
          "height": 759
        },
        "id": "-YY1ZgtM2En0",
        "outputId": "1fb8f434-5a10-4910-a1e7-ebac515cecd3"
      },
      "outputs": [
        {
          "output_type": "display_data",
          "data": {
            "text/plain": [
              "<Figure size 1000x1000 with 16 Axes>"
            ],
            "image/png": "[encoded data removed]"
          },
          "metadata": {}
        }
      ],
      "source": [
        "# Create a 4x4 grid of images\n",
        "fig, axes = plt.subplots(4, 4, figsize=(10, 10))\n",
        "fig.suptitle(\"First 16 Images\", fontsize=16)\n",
        "\n",
        "# Plot the first 16 images from the dataset\n",
        "for i, ax in enumerate(axes.flat):\n",
        "    img = df.iloc[i, 1:].values.reshape(28, 28)  # Reshape to 28x28\n",
        "    ax.imshow(img, cmap='gray')  # Display in grayscale\n",
        "    ax.axis('off')  # Remove axis for a cleaner look\n",
        "    ax.set_title(f\"Label: {df.iloc[i, 0]}\")  # Show the label\n",
        "\n",
        "plt.tight_layout(rect=[0, 0, 1, 0.96])  # Adjust layout to fit the title\n",
        "plt.show()"
      ],
      "id": "-YY1ZgtM2En0"
    },
    {
      "cell_type": "markdown",
      "metadata": {
        "id": "HcQ9YlAm2En0"
      },
      "source": [
        "## 4. Preprocessing and Dataset Creation"
      ],
      "id": "HcQ9YlAm2En0"
    },
    {
      "cell_type": "code",
      "execution_count": null,
      "metadata": {
        "id": "JthIVfYF2En0"
      },
      "outputs": [],
      "source": [
        "# Separate features (X) and labels (y)\n",
        "X = df.iloc[:, 1:].values\n",
        "y = df.iloc[:, 0].values\n",
        "\n",
        "# Split into training and testing sets\n",
        "X_train, X_test, y_train, y_test = train_test_split(X, y, test_size=0.2, random_state=42)\n",
        "\n",
        "# Normalize pixel values to be between 0 and 1\n",
        "X_train = X_train / 255.0\n",
        "X_test = X_test / 255.0"
      ],
      "id": "JthIVfYF2En0"
    },
    {
      "cell_type": "code",
      "execution_count": null,
      "metadata": {
        "id": "_S6xQV2X2En0"
      },
      "outputs": [],
      "source": [
        "class CustomDataset(Dataset):\n",
        "    def __init__(self, features, labels):\n",
        "        # Convert to PyTorch tensors\n",
        "        self.features = torch.tensor(features, dtype=torch.float32)\n",
        "        self.labels = torch.tensor(labels, dtype=torch.long)\n",
        "\n",
        "    def __len__(self):\n",
        "        return len(self.features)\n",
        "\n",
        "    def __getitem__(self, index):\n",
        "        return self.features[index], self.labels[index]\n",
        "\n",
        "train_dataset = CustomDataset(X_train, y_train)\n",
        "test_dataset = CustomDataset(X_test, y_test)"
      ],
      "id": "_S6xQV2X2En0"
    },
    {
      "cell_type": "markdown",
      "metadata": {
        "id": "JI7FE-PW2En0"
      },
      "source": [
        "## 5. Neural Network Model Definition"
      ],
      "id": "JI7FE-PW2En0"
    },
    {
      "cell_type": "code",
      "execution_count": null,
      "metadata": {
        "id": "Gs_m949R2En0"
      },
      "outputs": [],
      "source": [
        "class MyNN(nn.Module):\n",
        "    def __init__(self, input_dim, output_dim, num_hidden_layers, neurons_per_layer, dropout_rate):\n",
        "        super().__init__()\n",
        "\n",
        "        layers = []\n",
        "\n",
        "        # Dynamically build the hidden layers\n",
        "        for i in range(num_hidden_layers):\n",
        "            layers.append(nn.Linear(input_dim, neurons_per_layer))\n",
        "            layers.append(nn.BatchNorm1d(neurons_per_layer))\n",
        "            layers.append(nn.ReLU())\n",
        "            layers.append(nn.Dropout(dropout_rate))\n",
        "            input_dim = neurons_per_layer # The input for the next layer is the output of this one\n",
        "\n",
        "        # Add the final output layer\n",
        "        layers.append(nn.Linear(neurons_per_layer, output_dim))\n",
        "\n",
        "        self.model = nn.Sequential(*layers)\n",
        "\n",
        "    def forward(self, x):\n",
        "        return self.model(x)"
      ],
      "id": "Gs_m949R2En0"
    },
    {
      "cell_type": "markdown",
      "metadata": {
        "id": "3SXWXCS92En0"
      },
      "source": [
        "## 6. Optuna Objective Function"
      ],
      "id": "3SXWXCS92En0"
    },
    {
      "cell_type": "code",
      "execution_count": null,
      "metadata": {
        "id": "88Vja6CT2En1"
      },
      "outputs": [],
      "source": [
        "def objective(trial):\n",
        "    # Hyperparameter search space\n",
        "    num_hidden_layers = trial.suggest_int(\"num_hidden_layers\", 1, 5)\n",
        "    neurons_per_layer = trial.suggest_int(\"neurons_per_layer\", 16, 128, step=16)\n",
        "    epochs = trial.suggest_int(\"epochs\", 10, 50, step=10)\n",
        "    learning_rate = trial.suggest_float(\"learning_rate\", 1e-5, 1e-1, log=True)\n",
        "    dropout_rate = trial.suggest_float(\"dropout_rate\", 0.1, 0.5, step=0.1)\n",
        "    batch_size = trial.suggest_categorical(\"batch_size\", [32, 64, 128])\n",
        "    optimizer_name = trial.suggest_categorical(\"optimizer\", ['Adam', 'SGD', 'RMSprop'])\n",
        "    weight_decay = trial.suggest_float(\"weight_decay\", 1e-6, 1e-3, log=True)\n",
        "\n",
        "    # DataLoaders\n",
        "    train_loader = DataLoader(train_dataset, batch_size=batch_size, shuffle=True, pin_memory=True)\n",
        "    test_loader = DataLoader(test_dataset, batch_size=batch_size, shuffle=False, pin_memory=True)\n",
        "\n",
        "    # Model initialization\n",
        "    input_dim = 784\n",
        "    output_dim = 10\n",
        "    model = MyNN(input_dim, output_dim, num_hidden_layers, neurons_per_layer, dropout_rate)\n",
        "    model.to(device)\n",
        "\n",
        "    # Loss function and Optimizer Selection (CORRECTED LOGIC)\n",
        "    criterion = nn.CrossEntropyLoss()\n",
        "    if optimizer_name == 'Adam':\n",
        "        optimizer = optim.Adam(model.parameters(), lr=learning_rate, weight_decay=weight_decay)\n",
        "    elif optimizer_name == 'SGD':\n",
        "        optimizer = optim.SGD(model.parameters(), lr=learning_rate, weight_decay=weight_decay)\n",
        "    else: # RMSprop\n",
        "        optimizer = optim.RMSprop(model.parameters(), lr=learning_rate, weight_decay=weight_decay)\n",
        "\n",
        "    # Training Loop\n",
        "    model.train()\n",
        "    for epoch in range(epochs):\n",
        "        for batch_features, batch_labels in train_loader:\n",
        "            batch_features, batch_labels = batch_features.to(device), batch_labels.to(device)\n",
        "            outputs = model(batch_features)\n",
        "            loss = criterion(outputs, batch_labels)\n",
        "            optimizer.zero_grad()\n",
        "            loss.backward()\n",
        "            optimizer.step()\n",
        "\n",
        "    # Evaluation Loop\n",
        "    model.eval()\n",
        "    correct = 0\n",
        "    total = 0\n",
        "    with torch.no_grad():\n",
        "        for batch_features, batch_labels in test_loader:\n",
        "            batch_features, batch_labels = batch_features.to(device), batch_labels.to(device)\n",
        "            outputs = model(batch_features)\n",
        "            _, predicted = torch.max(outputs, 1)\n",
        "            total += batch_labels.shape[0]\n",
        "            correct += (predicted == batch_labels).sum().item()\n",
        "\n",
        "    accuracy = correct / total\n",
        "    return accuracy"
      ],
      "id": "88Vja6CT2En1"
    },
    {
      "cell_type": "markdown",
      "metadata": {
        "id": "LhSnhXj_2En1"
      },
      "source": [
        "## 7. Run Hyperparameter Optimization with MLflow Logging"
      ],
      "id": "LhSnhXj_2En1"
    },
    {
      "cell_type": "code",
      "execution_count": null,
      "metadata": {
        "colab": {
          "base_uri": "https://localhost:8080/"
        },
        "id": "1l6Q0VQr2En1",
        "outputId": "ea7e10cc-c0e4-4bd9-8e45-5b8b3238fb73"
      },
      "outputs": [
        {
          "output_type": "stream",
          "name": "stderr",
          "text": [
            "[I 2025-09-19 12:06:43,301] A new study created in memory with name: no-name-5dcd74aa-1f2e-452c-a7db-d241c18805e4\n",
            "/tmp/ipython-input-2080727612.py:4: ExperimentalWarning: MLflowCallback is experimental (supported from v1.4.0). The interface can change in the future.\n",
            "  mlflow_callback = optuna.integration.MLflowCallback(\n",
            "/usr/local/lib/python3.12/dist-packages/torch/utils/data/dataloader.py:666: UserWarning: 'pin_memory' argument is set as true but no accelerator is found, then device pinned memory won't be used.\n",
            "  warnings.warn(warn_msg)\n",
            "[I 2025-09-19 12:07:02,280] Trial 0 finished with value: 0.7933333333333333 and parameters: {'num_hidden_layers': 3, 'neurons_per_layer': 64, 'epochs': 40, 'learning_rate': 0.04132097571189788, 'dropout_rate': 0.30000000000000004, 'batch_size': 128, 'optimizer': 'RMSprop', 'weight_decay': 1.2946225684279446e-05}. Best is trial 0 with value: 0.7933333333333333.\n",
            "2025/09/19 12:07:02 INFO mlflow.tracking.fluent: Experiment with name 'no-name-5dcd74aa-1f2e-452c-a7db-d241c18805e4' does not exist. Creating a new experiment.\n",
            "/usr/local/lib/python3.12/dist-packages/torch/utils/data/dataloader.py:666: UserWarning: 'pin_memory' argument is set as true but no accelerator is found, then device pinned memory won't be used.\n",
            "  warnings.warn(warn_msg)\n",
            "[I 2025-09-19 12:07:13,061] Trial 1 finished with value: 0.6591666666666667 and parameters: {'num_hidden_layers': 5, 'neurons_per_layer': 96, 'epochs': 40, 'learning_rate': 0.0002578282377242978, 'dropout_rate': 0.1, 'batch_size': 128, 'optimizer': 'SGD', 'weight_decay': 0.0005184717759050653}. Best is trial 0 with value: 0.7933333333333333.\n",
            "[I 2025-09-19 12:07:20,346] Trial 2 finished with value: 0.7675 and parameters: {'num_hidden_layers': 3, 'neurons_per_layer': 16, 'epochs': 50, 'learning_rate': 0.01661299493456247, 'dropout_rate': 0.30000000000000004, 'batch_size': 128, 'optimizer': 'SGD', 'weight_decay': 7.279204827427512e-05}. Best is trial 0 with value: 0.7933333333333333.\n",
            "[I 2025-09-19 12:07:22,691] Trial 3 finished with value: 0.7816666666666666 and parameters: {'num_hidden_layers': 4, 'neurons_per_layer': 80, 'epochs': 10, 'learning_rate': 0.009920381482881716, 'dropout_rate': 0.5, 'batch_size': 128, 'optimizer': 'RMSprop', 'weight_decay': 5.937864773852933e-06}. Best is trial 0 with value: 0.7933333333333333.\n",
            "[I 2025-09-19 12:07:27,247] Trial 4 finished with value: 0.18 and parameters: {'num_hidden_layers': 5, 'neurons_per_layer': 16, 'epochs': 30, 'learning_rate': 0.0003202983611189853, 'dropout_rate': 0.30000000000000004, 'batch_size': 128, 'optimizer': 'SGD', 'weight_decay': 1.0454869782460203e-05}. Best is trial 0 with value: 0.7933333333333333.\n",
            "[I 2025-09-19 12:07:38,184] Trial 5 finished with value: 0.8283333333333334 and parameters: {'num_hidden_layers': 3, 'neurons_per_layer': 48, 'epochs': 20, 'learning_rate': 0.0004883379421545583, 'dropout_rate': 0.4, 'batch_size': 32, 'optimizer': 'Adam', 'weight_decay': 0.00039117787149963216}. Best is trial 5 with value: 0.8283333333333334.\n",
            "[I 2025-09-19 12:07:41,544] Trial 6 finished with value: 0.8033333333333333 and parameters: {'num_hidden_layers': 1, 'neurons_per_layer': 16, 'epochs': 20, 'learning_rate': 0.010661715885588697, 'dropout_rate': 0.4, 'batch_size': 64, 'optimizer': 'SGD', 'weight_decay': 1.1679602680121759e-05}. Best is trial 5 with value: 0.8283333333333334.\n",
            "[I 2025-09-19 12:07:58,505] Trial 7 finished with value: 0.84 and parameters: {'num_hidden_layers': 3, 'neurons_per_layer': 64, 'epochs': 50, 'learning_rate': 0.00029066685316219467, 'dropout_rate': 0.4, 'batch_size': 64, 'optimizer': 'Adam', 'weight_decay': 4.416794307732853e-05}. Best is trial 7 with value: 0.84.\n",
            "[I 2025-09-19 12:08:00,021] Trial 8 finished with value: 0.635 and parameters: {'num_hidden_layers': 1, 'neurons_per_layer': 96, 'epochs': 10, 'learning_rate': 1.049469874204351e-05, 'dropout_rate': 0.30000000000000004, 'batch_size': 128, 'optimizer': 'Adam', 'weight_decay': 0.0004788141948025794}. Best is trial 7 with value: 0.84.\n",
            "[I 2025-09-19 12:08:01,307] Trial 9 finished with value: 0.11 and parameters: {'num_hidden_layers': 2, 'neurons_per_layer': 64, 'epochs': 10, 'learning_rate': 1.1236591025061474e-05, 'dropout_rate': 0.1, 'batch_size': 128, 'optimizer': 'SGD', 'weight_decay': 1.2371402017148499e-06}. Best is trial 7 with value: 0.84.\n",
            "[I 2025-09-19 12:08:18,131] Trial 10 finished with value: 0.8333333333333334 and parameters: {'num_hidden_layers': 2, 'neurons_per_layer': 128, 'epochs': 50, 'learning_rate': 4.894441022741177e-05, 'dropout_rate': 0.5, 'batch_size': 64, 'optimizer': 'Adam', 'weight_decay': 6.389294935696394e-05}. Best is trial 7 with value: 0.84.\n",
            "[I 2025-09-19 12:08:35,563] Trial 11 finished with value: 0.8375 and parameters: {'num_hidden_layers': 2, 'neurons_per_layer': 128, 'epochs': 50, 'learning_rate': 6.255404029882925e-05, 'dropout_rate': 0.5, 'batch_size': 64, 'optimizer': 'Adam', 'weight_decay': 7.024109472449049e-05}. Best is trial 7 with value: 0.84.\n",
            "[I 2025-09-19 12:08:51,936] Trial 12 finished with value: 0.8391666666666666 and parameters: {'num_hidden_layers': 2, 'neurons_per_layer': 128, 'epochs': 50, 'learning_rate': 0.001675213269748564, 'dropout_rate': 0.5, 'batch_size': 64, 'optimizer': 'Adam', 'weight_decay': 0.0001265289013290374}. Best is trial 7 with value: 0.84.\n",
            "[I 2025-09-19 12:09:04,995] Trial 13 finished with value: 0.8275 and parameters: {'num_hidden_layers': 4, 'neurons_per_layer': 48, 'epochs': 40, 'learning_rate': 0.0017435851979756506, 'dropout_rate': 0.4, 'batch_size': 64, 'optimizer': 'Adam', 'weight_decay': 0.0001583372537454048}. Best is trial 7 with value: 0.84.\n",
            "[I 2025-09-19 12:09:27,624] Trial 14 finished with value: 0.8383333333333334 and parameters: {'num_hidden_layers': 2, 'neurons_per_layer': 112, 'epochs': 50, 'learning_rate': 0.0015713265050764102, 'dropout_rate': 0.4, 'batch_size': 64, 'optimizer': 'Adam', 'weight_decay': 0.00017053631028631576}. Best is trial 7 with value: 0.84.\n",
            "[I 2025-09-19 12:09:53,741] Trial 15 finished with value: 0.835 and parameters: {'num_hidden_layers': 4, 'neurons_per_layer': 48, 'epochs': 40, 'learning_rate': 0.0024823529187037274, 'dropout_rate': 0.2, 'batch_size': 32, 'optimizer': 'Adam', 'weight_decay': 3.3840276941472604e-05}. Best is trial 7 with value: 0.84.\n",
            "[I 2025-09-19 12:10:04,799] Trial 16 finished with value: 0.8133333333333334 and parameters: {'num_hidden_layers': 3, 'neurons_per_layer': 80, 'epochs': 30, 'learning_rate': 0.00010036467273814585, 'dropout_rate': 0.5, 'batch_size': 64, 'optimizer': 'Adam', 'weight_decay': 0.00019991131076937618}. Best is trial 7 with value: 0.84.\n",
            "[I 2025-09-19 12:10:11,427] Trial 17 finished with value: 0.8141666666666667 and parameters: {'num_hidden_layers': 1, 'neurons_per_layer': 96, 'epochs': 30, 'learning_rate': 0.005400402671015597, 'dropout_rate': 0.4, 'batch_size': 64, 'optimizer': 'RMSprop', 'weight_decay': 3.0049632967794125e-05}. Best is trial 7 with value: 0.84.\n",
            "[I 2025-09-19 12:11:14,029] Trial 18 finished with value: 0.5733333333333334 and parameters: {'num_hidden_layers': 2, 'neurons_per_layer': 112, 'epochs': 50, 'learning_rate': 0.08078252580461533, 'dropout_rate': 0.2, 'batch_size': 64, 'optimizer': 'Adam', 'weight_decay': 0.0009773029684119125}. Best is trial 7 with value: 0.84.\n",
            "[I 2025-09-19 12:11:37,898] Trial 19 finished with value: 0.5875 and parameters: {'num_hidden_layers': 4, 'neurons_per_layer': 32, 'epochs': 40, 'learning_rate': 0.0007150517328446639, 'dropout_rate': 0.5, 'batch_size': 32, 'optimizer': 'Adam', 'weight_decay': 2.6614407418588176e-06}. Best is trial 7 with value: 0.84.\n",
            "[I 2025-09-19 12:11:52,128] Trial 20 finished with value: 0.8208333333333333 and parameters: {'num_hidden_layers': 2, 'neurons_per_layer': 112, 'epochs': 50, 'learning_rate': 0.00016049017141140314, 'dropout_rate': 0.4, 'batch_size': 64, 'optimizer': 'RMSprop', 'weight_decay': 2.8519925466267503e-05}. Best is trial 7 with value: 0.84.\n",
            "[I 2025-09-19 12:12:08,721] Trial 21 finished with value: 0.8225 and parameters: {'num_hidden_layers': 2, 'neurons_per_layer': 112, 'epochs': 50, 'learning_rate': 0.0014345244013139896, 'dropout_rate': 0.4, 'batch_size': 64, 'optimizer': 'Adam', 'weight_decay': 0.00017417544790641722}. Best is trial 7 with value: 0.84.\n",
            "[I 2025-09-19 12:12:30,107] Trial 22 finished with value: 0.845 and parameters: {'num_hidden_layers': 3, 'neurons_per_layer': 128, 'epochs': 50, 'learning_rate': 0.00237010026713822, 'dropout_rate': 0.4, 'batch_size': 64, 'optimizer': 'Adam', 'weight_decay': 0.00011277498384510355}. Best is trial 22 with value: 0.845.\n",
            "[I 2025-09-19 12:12:47,414] Trial 23 finished with value: 0.8441666666666666 and parameters: {'num_hidden_layers': 3, 'neurons_per_layer': 128, 'epochs': 40, 'learning_rate': 0.003935816924242563, 'dropout_rate': 0.5, 'batch_size': 64, 'optimizer': 'Adam', 'weight_decay': 0.00010296726713845093}. Best is trial 22 with value: 0.845.\n",
            "[I 2025-09-19 12:13:01,346] Trial 24 finished with value: 0.8333333333333334 and parameters: {'num_hidden_layers': 3, 'neurons_per_layer': 80, 'epochs': 40, 'learning_rate': 0.0033090652145295234, 'dropout_rate': 0.4, 'batch_size': 64, 'optimizer': 'Adam', 'weight_decay': 4.4214673374305304e-05}. Best is trial 22 with value: 0.845.\n",
            "[I 2025-09-19 12:13:21,511] Trial 25 finished with value: 0.83 and parameters: {'num_hidden_layers': 4, 'neurons_per_layer': 128, 'epochs': 40, 'learning_rate': 0.00469307781144109, 'dropout_rate': 0.5, 'batch_size': 64, 'optimizer': 'Adam', 'weight_decay': 9.511458112516902e-05}. Best is trial 22 with value: 0.845.\n",
            "[I 2025-09-19 12:13:42,283] Trial 26 finished with value: 0.8216666666666667 and parameters: {'num_hidden_layers': 3, 'neurons_per_layer': 64, 'epochs': 40, 'learning_rate': 0.0006589594104856217, 'dropout_rate': 0.2, 'batch_size': 32, 'optimizer': 'Adam', 'weight_decay': 1.926806423075205e-05}. Best is trial 22 with value: 0.845.\n",
            "[I 2025-09-19 12:14:03,105] Trial 27 finished with value: 0.7741666666666667 and parameters: {'num_hidden_layers': 3, 'neurons_per_layer': 96, 'epochs': 50, 'learning_rate': 0.020596546947064476, 'dropout_rate': 0.4, 'batch_size': 64, 'optimizer': 'Adam', 'weight_decay': 0.0003469210850787147}. Best is trial 22 with value: 0.845.\n",
            "[I 2025-09-19 12:14:14,236] Trial 28 finished with value: 0.6483333333333333 and parameters: {'num_hidden_layers': 3, 'neurons_per_layer': 32, 'epochs': 40, 'learning_rate': 2.3553116554543723e-05, 'dropout_rate': 0.5, 'batch_size': 64, 'optimizer': 'RMSprop', 'weight_decay': 4.887926093989719e-05}. Best is trial 22 with value: 0.845.\n",
            "[I 2025-09-19 12:14:47,810] Trial 29 finished with value: 0.6675 and parameters: {'num_hidden_layers': 3, 'neurons_per_layer': 112, 'epochs': 40, 'learning_rate': 0.04964359452744166, 'dropout_rate': 0.30000000000000004, 'batch_size': 64, 'optimizer': 'Adam', 'weight_decay': 0.00025921838142916974}. Best is trial 22 with value: 0.845.\n",
            "[I 2025-09-19 12:15:05,721] Trial 30 finished with value: 0.8258333333333333 and parameters: {'num_hidden_layers': 4, 'neurons_per_layer': 80, 'epochs': 30, 'learning_rate': 0.006234285463815225, 'dropout_rate': 0.30000000000000004, 'batch_size': 32, 'optimizer': 'RMSprop', 'weight_decay': 1.6374272933182934e-05}. Best is trial 22 with value: 0.845.\n",
            "[I 2025-09-19 12:15:28,753] Trial 31 finished with value: 0.8458333333333333 and parameters: {'num_hidden_layers': 3, 'neurons_per_layer': 128, 'epochs': 50, 'learning_rate': 0.0010660366117430083, 'dropout_rate': 0.5, 'batch_size': 64, 'optimizer': 'Adam', 'weight_decay': 0.0001050699184793429}. Best is trial 31 with value: 0.8458333333333333.\n",
            "[I 2025-09-19 12:15:49,986] Trial 32 finished with value: 0.84 and parameters: {'num_hidden_layers': 3, 'neurons_per_layer': 128, 'epochs': 50, 'learning_rate': 0.0003418537982948887, 'dropout_rate': 0.5, 'batch_size': 64, 'optimizer': 'Adam', 'weight_decay': 0.00010732983121714572}. Best is trial 31 with value: 0.8458333333333333.\n",
            "[I 2025-09-19 12:16:12,645] Trial 33 finished with value: 0.8366666666666667 and parameters: {'num_hidden_layers': 3, 'neurons_per_layer': 128, 'epochs': 50, 'learning_rate': 0.0009184679465856733, 'dropout_rate': 0.5, 'batch_size': 64, 'optimizer': 'Adam', 'weight_decay': 9.363780415253774e-05}. Best is trial 31 with value: 0.8458333333333333.\n",
            "[I 2025-09-19 12:16:25,001] Trial 34 finished with value: 0.6308333333333334 and parameters: {'num_hidden_layers': 3, 'neurons_per_layer': 112, 'epochs': 40, 'learning_rate': 0.00019372878320879743, 'dropout_rate': 0.4, 'batch_size': 64, 'optimizer': 'SGD', 'weight_decay': 0.0008199520377896542}. Best is trial 31 with value: 0.8458333333333333.\n",
            "[I 2025-09-19 12:16:47,657] Trial 35 finished with value: 0.835 and parameters: {'num_hidden_layers': 4, 'neurons_per_layer': 96, 'epochs': 50, 'learning_rate': 0.002998768943526346, 'dropout_rate': 0.5, 'batch_size': 64, 'optimizer': 'Adam', 'weight_decay': 0.0002546788619308013}. Best is trial 31 with value: 0.8458333333333333.\n",
            "[I 2025-09-19 12:17:02,610] Trial 36 finished with value: 0.845 and parameters: {'num_hidden_layers': 3, 'neurons_per_layer': 128, 'epochs': 50, 'learning_rate': 0.00045891427398780753, 'dropout_rate': 0.4, 'batch_size': 128, 'optimizer': 'Adam', 'weight_decay': 7.404334072210854e-06}. Best is trial 31 with value: 0.8458333333333333.\n",
            "[I 2025-09-19 12:17:09,884] Trial 37 finished with value: 0.52 and parameters: {'num_hidden_layers': 5, 'neurons_per_layer': 128, 'epochs': 20, 'learning_rate': 0.010842954780744029, 'dropout_rate': 0.5, 'batch_size': 128, 'optimizer': 'SGD', 'weight_decay': 4.961376664901172e-06}. Best is trial 31 with value: 0.8458333333333333.\n",
            "[I 2025-09-19 12:17:26,092] Trial 38 finished with value: 0.8291666666666667 and parameters: {'num_hidden_layers': 4, 'neurons_per_layer': 112, 'epochs': 50, 'learning_rate': 0.0004789358275900709, 'dropout_rate': 0.4, 'batch_size': 128, 'optimizer': 'Adam', 'weight_decay': 3.2447306501793525e-06}. Best is trial 31 with value: 0.8458333333333333.\n",
            "[I 2025-09-19 12:17:38,123] Trial 39 finished with value: 0.74 and parameters: {'num_hidden_layers': 3, 'neurons_per_layer': 128, 'epochs': 40, 'learning_rate': 0.02103993450149401, 'dropout_rate': 0.30000000000000004, 'batch_size': 128, 'optimizer': 'RMSprop', 'weight_decay': 9.122677076247509e-06}. Best is trial 31 with value: 0.8458333333333333.\n",
            "[I 2025-09-19 12:17:45,438] Trial 40 finished with value: 0.715 and parameters: {'num_hidden_layers': 3, 'neurons_per_layer': 128, 'epochs': 30, 'learning_rate': 0.0010360589569440447, 'dropout_rate': 0.30000000000000004, 'batch_size': 128, 'optimizer': 'SGD', 'weight_decay': 2.0888400944581342e-05}. Best is trial 31 with value: 0.8458333333333333.\n",
            "[I 2025-09-19 12:17:58,243] Trial 41 finished with value: 0.8225 and parameters: {'num_hidden_layers': 3, 'neurons_per_layer': 64, 'epochs': 50, 'learning_rate': 0.00039195468275978325, 'dropout_rate': 0.4, 'batch_size': 128, 'optimizer': 'Adam', 'weight_decay': 5.117244183941389e-05}. Best is trial 31 with value: 0.8458333333333333.\n",
            "[I 2025-09-19 12:18:12,685] Trial 42 finished with value: 0.83 and parameters: {'num_hidden_layers': 3, 'neurons_per_layer': 112, 'epochs': 50, 'learning_rate': 0.0002568124700652547, 'dropout_rate': 0.4, 'batch_size': 128, 'optimizer': 'Adam', 'weight_decay': 7.109253336624348e-05}. Best is trial 31 with value: 0.8458333333333333.\n",
            "[I 2025-09-19 12:18:37,466] Trial 43 finished with value: 0.8316666666666667 and parameters: {'num_hidden_layers': 4, 'neurons_per_layer': 128, 'epochs': 50, 'learning_rate': 0.0001423864687953742, 'dropout_rate': 0.5, 'batch_size': 64, 'optimizer': 'Adam', 'weight_decay': 1.2191463553293379e-06}. Best is trial 31 with value: 0.8458333333333333.\n",
            "[I 2025-09-19 12:18:55,660] Trial 44 finished with value: 0.825 and parameters: {'num_hidden_layers': 3, 'neurons_per_layer': 96, 'epochs': 50, 'learning_rate': 0.0010277653390393605, 'dropout_rate': 0.4, 'batch_size': 64, 'optimizer': 'Adam', 'weight_decay': 0.00012616734734038006}. Best is trial 31 with value: 0.8458333333333333.\n",
            "[I 2025-09-19 12:19:08,017] Trial 45 finished with value: 0.8441666666666666 and parameters: {'num_hidden_layers': 2, 'neurons_per_layer': 128, 'epochs': 50, 'learning_rate': 0.0005682597326622203, 'dropout_rate': 0.5, 'batch_size': 128, 'optimizer': 'Adam', 'weight_decay': 3.836592033624257e-05}. Best is trial 31 with value: 0.8458333333333333.\n",
            "[I 2025-09-19 12:19:18,024] Trial 46 finished with value: 0.8316666666666667 and parameters: {'num_hidden_layers': 1, 'neurons_per_layer': 128, 'epochs': 50, 'learning_rate': 0.002498658474112465, 'dropout_rate': 0.5, 'batch_size': 128, 'optimizer': 'Adam', 'weight_decay': 7.921574094589302e-06}. Best is trial 31 with value: 0.8458333333333333.\n",
            "[I 2025-09-19 12:19:30,277] Trial 47 finished with value: 0.8341666666666666 and parameters: {'num_hidden_layers': 2, 'neurons_per_layer': 128, 'epochs': 50, 'learning_rate': 0.0005735691059752663, 'dropout_rate': 0.5, 'batch_size': 128, 'optimizer': 'Adam', 'weight_decay': 5.957368689968649e-05}. Best is trial 31 with value: 0.8458333333333333.\n",
            "[I 2025-09-19 12:19:39,731] Trial 48 finished with value: 0.8275 and parameters: {'num_hidden_layers': 2, 'neurons_per_layer': 112, 'epochs': 40, 'learning_rate': 0.007990223008912944, 'dropout_rate': 0.5, 'batch_size': 128, 'optimizer': 'Adam', 'weight_decay': 3.366771240999018e-05}. Best is trial 31 with value: 0.8458333333333333.\n",
            "[I 2025-09-19 12:19:47,821] Trial 49 finished with value: 0.8075 and parameters: {'num_hidden_layers': 2, 'neurons_per_layer': 128, 'epochs': 40, 'learning_rate': 0.004147032964652473, 'dropout_rate': 0.5, 'batch_size': 128, 'optimizer': 'SGD', 'weight_decay': 9.826819707420418e-05}. Best is trial 31 with value: 0.8458333333333333.\n"
          ]
        }
      ],
      "source": [
        "study = optuna.create_study(direction='maximize')\n",
        "\n",
        "# Setup MLflow callback\n",
        "mlflow_callback = optuna.integration.MLflowCallback(\n",
        "    tracking_uri=mlflow.get_tracking_uri(),\n",
        "    metric_name='accuracy',\n",
        ")\n",
        "\n",
        "# Start the optimization (CORRECTED SYNTAX)\n",
        "# You can change n_trials to a larger number for a more thorough search.\n",
        "study.optimize(objective, n_trials=50, callbacks=[mlflow_callback])"
      ],
      "id": "1l6Q0VQr2En1"
    },
    {
      "cell_type": "markdown",
      "metadata": {
        "id": "2v_FDVLI2En1"
      },
      "source": [
        "## 8. Display Best Results"
      ],
      "id": "2v_FDVLI2En1"
    },
    {
      "cell_type": "code",
      "execution_count": null,
      "metadata": {
        "id": "bmlqNX_h2En1",
        "colab": {
          "base_uri": "https://localhost:8080/"
        },
        "outputId": "829c6c5d-5be4-428a-d3e7-79d7cc592436"
      },
      "outputs": [
        {
          "output_type": "stream",
          "name": "stdout",
          "text": [
            "Best trial found:\n",
            "  Value (Accuracy): 0.8458\n",
            "  Params: \n",
            "    num_hidden_layers: 3\n",
            "    neurons_per_layer: 128\n",
            "    epochs: 50\n",
            "    learning_rate: 0.0010660366117430083\n",
            "    dropout_rate: 0.5\n",
            "    batch_size: 64\n",
            "    optimizer: Adam\n",
            "    weight_decay: 0.0001050699184793429\n"
          ]
        }
      ],
      "source": [
        "print(\"Best trial found:\")\n",
        "print(f\"  Value (Accuracy): {study.best_value:.4f}\")\n",
        "print(\"  Params: \")\n",
        "for key, value in study.best_params.items():\n",
        "    print(f\"    {key}: {value}\")"
      ],
      "id": "bmlqNX_h2En1"
    },
    {
      "cell_type": "markdown",
      "metadata": {
        "id": "9ETBb3T-2En1"
      },
      "source": [
        "## 9. Visualize Results with MLflow UI"
      ],
      "id": "9ETBb3T-2En1"
    },
    {
      "cell_type": "markdown",
      "metadata": {
        "id": "DWB3_Lqk2En1"
      },
      "source": [
        "Now we will launch the MLflow UI and expose it with `ngrok` so you can access it from your browser."
      ],
      "id": "DWB3_Lqk2En1"
    },
    {
      "cell_type": "code",
      "execution_count": null,
      "metadata": {
        "colab": {
          "base_uri": "https://localhost:8080/"
        },
        "id": "iP-NWBfH2En1",
        "outputId": "7fef8d80-7d98-435c-df75-a58ed92fee49"
      },
      "outputs": [
        {
          "output_type": "stream",
          "name": "stdout",
          "text": [
            "\u001b[33mWARNING: Ignoring invalid distribution ~erkzeug (/usr/local/lib/python3.12/dist-packages)\u001b[0m\u001b[33m\n",
            "\u001b[0mCollecting pyngrok\n",
            "  Downloading pyngrok-7.3.0-py3-none-any.whl.metadata (8.1 kB)\n",
            "Requirement already satisfied: PyYAML>=5.1 in /usr/local/lib/python3.12/dist-packages (from pyngrok) (6.0.2)\n",
            "Downloading pyngrok-7.3.0-py3-none-any.whl (25 kB)\n",
            "\u001b[33mWARNING: Ignoring invalid distribution ~erkzeug (/usr/local/lib/python3.12/dist-packages)\u001b[0m\u001b[33m\n",
            "\u001b[0mInstalling collected packages: pyngrok\n",
            "Successfully installed pyngrok-7.3.0\n"
          ]
        }
      ],
      "source": [
        "# Install ngrok\n",
        "!pip install pyngrok"
      ],
      "id": "iP-NWBfH2En1"
    },
    {
      "cell_type": "code",
      "execution_count": null,
      "metadata": {
        "id": "DGl5zJzI2En1"
      },
      "outputs": [],
      "source": [
        "# Run the MLflow UI server in the background on port 5000\n",
        "get_ipython().system_raw('mlflow ui --port 5000 &')"
      ],
      "id": "DGl5zJzI2En1"
    },
    {
      "cell_type": "code",
      "execution_count": null,
      "metadata": {
        "colab": {
          "base_uri": "https://localhost:8080/"
        },
        "id": "4WP-KdzD2En1",
        "outputId": "b3552494-3cec-4be2-b669-343df54cd197"
      },
      "outputs": [
        {
          "output_type": "stream",
          "name": "stdout",
          "text": [
            "MLflow Tracking UI: NgrokTunnel: \"https://6237e2ae0cac.ngrok-free.app\" -> \"http://localhost:5000\"\n"
          ]
        }
      ],
      "source": [
        "from pyngrok import ngrok\n",
        "from google.colab import userdata\n",
        "\n",
        "# Terminate any existing tunnels to avoid errors\n",
        "ngrok.kill()\n",
        "\n",
        "# Get the authtoken from Colab secrets\n",
        "NGROK_AUTH_TOKEN = userdata.get('NGROK_AUTH_TOKEN')\n",
        "\n",
        "# Authenticate ngrok\n",
        "ngrok.set_auth_token(NGROK_AUTH_TOKEN)\n",
        "\n",
        "# Open a tunnel to the MLflow server\n",
        "mlflow_url = ngrok.connect(5000)\n",
        "print(f\"MLflow Tracking UI: {mlflow_url}\")\n",
        "# auth token 32v2pEDNUcOsPdX31vaAYrJMdqU_4NtzfQ31sTGZzc87uogkk"
      ],
      "id": "4WP-KdzD2En1"
    },
    {
      "cell_type": "markdown",
      "metadata": {
        "id": "5b5ud1PS2En1"
      },
      "source": [
        "**➡️ Click the URL above to open the MLflow dashboard and explore your experiment runs!**"
      ],
      "id": "5b5ud1PS2En1"
    }
  ],
  "metadata": {
    "colab": {
      "provenance": [],
      "include_colab_link": true
    },
    "kernelspec": {
      "display_name": "Python 3",
      "name": "python3"
    },
    "language_info": {
      "name": "python"
    }
  },
  "nbformat": 4,
  "nbformat_minor": 5
}