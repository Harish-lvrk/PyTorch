{
  "nbformat": 4,
  "nbformat_minor": 0,
  "metadata": {
    "colab": {
      "provenance": [],
      "gpuType": "T4",
      "include_colab_link": true
    },
    "kernelspec": {
      "name": "python3",
      "display_name": "Python 3"
    },
    "language_info": {
      "name": "python"
    },
    "accelerator": "GPU"
  },
  "cells": [
    {
      "cell_type": "markdown",
      "metadata": {
        "id": "view-in-github",
        "colab_type": "text"
      },
      "source": [
        "<a href=\"https://colab.research.google.com/github/Harish-lvrk/PyTorch/blob/main/tensors_in_pytorch.ipynb\" target=\"_parent\"><img src=\"https://colab.research.google.com/assets/colab-badge.svg\" alt=\"Open In Colab\"/></a>"
      ]
    },
    {
      "cell_type": "code",
      "execution_count": null,
      "metadata": {
        "colab": {
          "base_uri": "https://localhost:8080/"
        },
        "id": "t19_gq09KjvE",
        "outputId": "f1f4920e-a141-40ca-bdde-7fd72de9f3dc"
      },
      "outputs": [
        {
          "output_type": "stream",
          "name": "stdout",
          "text": [
            "2.8.0+cu126\n"
          ]
        }
      ],
      "source": [
        "import torch\n",
        "print(torch.__version__)"
      ]
    },
    {
      "cell_type": "code",
      "source": [
        "if torch.cuda.is_available():\n",
        "    print(\"GPU is available!\")\n",
        "    print(f\"Using GPU: {torch.cuda.get_device_name(0)}\")\n",
        "else:\n",
        "    print(\"GPU not available. Using CPU.\")"
      ],
      "metadata": {
        "colab": {
          "base_uri": "https://localhost:8080/"
        },
        "id": "W8o-1cUl4M2x",
        "outputId": "143f5bdd-002c-4250-9f62-43f1e38d5e7a"
      },
      "execution_count": null,
      "outputs": [
        {
          "output_type": "stream",
          "name": "stdout",
          "text": [
            "GPU is available!\n",
            "Using GPU: Tesla T4\n"
          ]
        }
      ]
    },
    {
      "cell_type": "markdown",
      "source": [
        "## Creating a Tensor"
      ],
      "metadata": {
        "id": "BFcs4wpz4wlA"
      }
    },
    {
      "cell_type": "code",
      "source": [
        "# using empty\n",
        "a = torch.empty(2,3)"
      ],
      "metadata": {
        "id": "AYzOQK7n4nNq"
      },
      "execution_count": null,
      "outputs": []
    },
    {
      "cell_type": "code",
      "source": [
        "a = torch.empty(4,5)"
      ],
      "metadata": {
        "id": "Bi5Au-bCdwmj"
      },
      "execution_count": null,
      "outputs": []
    },
    {
      "cell_type": "code",
      "source": [
        "a"
      ],
      "metadata": {
        "colab": {
          "base_uri": "https://localhost:8080/"
        },
        "id": "ozDn0Me_d2ps",
        "outputId": "cc4ef63c-05f2-479d-a7cd-0d7aa73f706e"
      },
      "execution_count": null,
      "outputs": [
        {
          "output_type": "execute_result",
          "data": {
            "text/plain": [
              "tensor([[6.3447e+31, 3.3509e+03, 4.1052e+24],\n",
              "        [3.1551e+15, 1.8123e+34, 5.1784e+22]])"
            ]
          },
          "metadata": {},
          "execution_count": 5
        }
      ]
    },
    {
      "cell_type": "markdown",
      "source": [
        "while crating troch.empty() it will not create any valuesin it , it provides memory for it\n",
        "what evver values in it just printing"
      ],
      "metadata": {
        "id": "XjxSVRm1d756"
      }
    },
    {
      "cell_type": "code",
      "source": [
        "# check type\n",
        "type(a)"
      ],
      "metadata": {
        "colab": {
          "base_uri": "https://localhost:8080/"
        },
        "id": "cSOoTAZY5FR1",
        "outputId": "778d2b3a-6255-4b45-e4a3-3f3a9772f5b7"
      },
      "execution_count": null,
      "outputs": [
        {
          "output_type": "execute_result",
          "data": {
            "text/plain": [
              "torch.Tensor"
            ]
          },
          "metadata": {},
          "execution_count": 6
        }
      ]
    },
    {
      "cell_type": "code",
      "source": [
        "# using zeros\n",
        "torch.zeros(2,3)"
      ],
      "metadata": {
        "colab": {
          "base_uri": "https://localhost:8080/"
        },
        "id": "LxVQPOVN47Dt",
        "outputId": "72ee7815-cc3f-4054-af88-b00e3597aeab"
      },
      "execution_count": null,
      "outputs": [
        {
          "output_type": "execute_result",
          "data": {
            "text/plain": [
              "tensor([[0., 0., 0.],\n",
              "        [0., 0., 0.]])"
            ]
          },
          "metadata": {},
          "execution_count": 9
        }
      ]
    },
    {
      "cell_type": "code",
      "source": [
        "# using ones\n",
        "torch.ones(2,3)"
      ],
      "metadata": {
        "colab": {
          "base_uri": "https://localhost:8080/"
        },
        "id": "U3-KPOlX48mT",
        "outputId": "cd99cb90-33bb-4701-aed6-09b9af7c8c0a"
      },
      "execution_count": null,
      "outputs": [
        {
          "output_type": "execute_result",
          "data": {
            "text/plain": [
              "tensor([[1., 1., 1.],\n",
              "        [1., 1., 1.]])"
            ]
          },
          "metadata": {},
          "execution_count": 10
        }
      ]
    },
    {
      "cell_type": "code",
      "source": [
        "# using rand\n",
        "torch.rand(2,3)"
      ],
      "metadata": {
        "colab": {
          "base_uri": "https://localhost:8080/"
        },
        "id": "U_j_mRGK4-DA",
        "outputId": "1749b631-2426-4787-bbaf-ce47a864652a"
      },
      "execution_count": null,
      "outputs": [
        {
          "output_type": "execute_result",
          "data": {
            "text/plain": [
              "tensor([[0.7359, 0.3281, 0.9661],\n",
              "        [0.5866, 0.5670, 0.1571]])"
            ]
          },
          "metadata": {},
          "execution_count": 11
        }
      ]
    },
    {
      "cell_type": "code",
      "source": [
        "# use of seed\n",
        "torch.rand(2,3)"
      ],
      "metadata": {
        "colab": {
          "base_uri": "https://localhost:8080/"
        },
        "id": "lCAf-HRw5SiA",
        "outputId": "9cb16ec6-c08d-4e27-dbc1-4a73f1aebea7"
      },
      "execution_count": null,
      "outputs": [
        {
          "output_type": "execute_result",
          "data": {
            "text/plain": [
              "tensor([[0.8751, 0.5203, 0.4190],\n",
              "        [0.5803, 0.5103, 0.6994]])"
            ]
          },
          "metadata": {},
          "execution_count": 12
        }
      ]
    },
    {
      "cell_type": "code",
      "source": [
        "# manual_seed\n",
        "torch.manual_seed(100)\n",
        "torch.rand(2,3) # every value is between o to 1"
      ],
      "metadata": {
        "colab": {
          "base_uri": "https://localhost:8080/"
        },
        "id": "DvAqsoFG5UMr",
        "outputId": "308f4372-f376-4f69-e7a2-0cdde2566a9e"
      },
      "execution_count": null,
      "outputs": [
        {
          "output_type": "execute_result",
          "data": {
            "text/plain": [
              "tensor([[0.1117, 0.8158, 0.2626],\n",
              "        [0.4839, 0.6765, 0.7539]])"
            ]
          },
          "metadata": {},
          "execution_count": 13
        }
      ]
    },
    {
      "cell_type": "code",
      "source": [
        "torch.manual_seed(100)\n",
        "torch.rand(2,3)"
      ],
      "metadata": {
        "colab": {
          "base_uri": "https://localhost:8080/"
        },
        "id": "96Akgtgs5Ulp",
        "outputId": "8494467e-2ffc-4579-8dfb-ee2b8da4c5c9"
      },
      "execution_count": null,
      "outputs": [
        {
          "output_type": "execute_result",
          "data": {
            "text/plain": [
              "tensor([[0.1117, 0.8158, 0.2626],\n",
              "        [0.4839, 0.6765, 0.7539]])"
            ]
          },
          "metadata": {},
          "execution_count": 14
        }
      ]
    },
    {
      "cell_type": "code",
      "source": [
        "# using tensor\n",
        "torch.tensor([[1,2,3],[4,5,6]]) # coustomized tensors"
      ],
      "metadata": {
        "colab": {
          "base_uri": "https://localhost:8080/"
        },
        "id": "-YLLqcGB4_4J",
        "outputId": "116093bd-0e24-44b4-a96c-d062be17d15d"
      },
      "execution_count": null,
      "outputs": [
        {
          "output_type": "execute_result",
          "data": {
            "text/plain": [
              "tensor([[1, 2, 3],\n",
              "        [4, 5, 6]])"
            ]
          },
          "metadata": {},
          "execution_count": 15
        }
      ]
    },
    {
      "cell_type": "code",
      "source": [
        "# other ways\n",
        "\n",
        "# arange\n",
        "print(\"using arange ->\", torch.arange(0,10,2)) # 0 to 10 linear spaced with stpe\n",
        "\n",
        "# using linspace\n",
        "print(\"using linspace ->\", torch.linspace(0,10,10)) # ten eveny spaced elements\n",
        "\n",
        "# using eye\n",
        "print(\"using eye ->\", torch.eye(5)) # identity matrix\n",
        "\n",
        "# using full\n",
        "print(\"using full ->\", torch.full((3, 3), 5)) #"
      ],
      "metadata": {
        "colab": {
          "base_uri": "https://localhost:8080/"
        },
        "id": "nLj35yxr6Qgv",
        "outputId": "7012931f-82d6-467d-b061-981ef39e1abc"
      },
      "execution_count": null,
      "outputs": [
        {
          "output_type": "stream",
          "name": "stdout",
          "text": [
            "using arange -> tensor([0, 2, 4, 6, 8])\n",
            "using linspace -> tensor([ 0.0000,  1.1111,  2.2222,  3.3333,  4.4444,  5.5556,  6.6667,  7.7778,\n",
            "         8.8889, 10.0000])\n",
            "using eye -> tensor([[1., 0., 0., 0., 0.],\n",
            "        [0., 1., 0., 0., 0.],\n",
            "        [0., 0., 1., 0., 0.],\n",
            "        [0., 0., 0., 1., 0.],\n",
            "        [0., 0., 0., 0., 1.]])\n",
            "using full -> tensor([[5, 5, 5],\n",
            "        [5, 5, 5],\n",
            "        [5, 5, 5]])\n"
          ]
        }
      ]
    },
    {
      "cell_type": "markdown",
      "source": [
        "## Tensor Shapes"
      ],
      "metadata": {
        "id": "0ejaUWSkinz0"
      }
    },
    {
      "cell_type": "code",
      "source": [
        "x = torch.tensor([[1,2,3],[4,5,6]])\n",
        "x"
      ],
      "metadata": {
        "colab": {
          "base_uri": "https://localhost:8080/"
        },
        "id": "HDrr5mQ86R4K",
        "outputId": "99e3b80d-e427-47bb-c14c-f666e48be820"
      },
      "execution_count": null,
      "outputs": [
        {
          "output_type": "execute_result",
          "data": {
            "text/plain": [
              "tensor([[1, 2, 3],\n",
              "        [4, 5, 6]])"
            ]
          },
          "metadata": {},
          "execution_count": 17
        }
      ]
    },
    {
      "cell_type": "code",
      "source": [
        "x.shape"
      ],
      "metadata": {
        "colab": {
          "base_uri": "https://localhost:8080/"
        },
        "id": "xGZhrLablBq-",
        "outputId": "fcb68081-d087-472b-e436-c9481e78a7fb"
      },
      "execution_count": null,
      "outputs": [
        {
          "output_type": "execute_result",
          "data": {
            "text/plain": [
              "torch.Size([2, 3])"
            ]
          },
          "metadata": {},
          "execution_count": 18
        }
      ]
    },
    {
      "cell_type": "markdown",
      "source": [
        "Like is we want something shape like  other"
      ],
      "metadata": {
        "id": "UZ_1nujhfVTf"
      }
    },
    {
      "cell_type": "code",
      "source": [
        "torch.empty_like(x) # if want to create the shapes like the other tensors"
      ],
      "metadata": {
        "colab": {
          "base_uri": "https://localhost:8080/"
        },
        "id": "NEQW9QhmlKXA",
        "outputId": "20d10c67-eed6-44b3-e53b-b2dea25c5745"
      },
      "execution_count": null,
      "outputs": [
        {
          "output_type": "execute_result",
          "data": {
            "text/plain": [
              "tensor([[              0,       679362608,       679366576],\n",
              "        [140189685280560,               0,               0]])"
            ]
          },
          "metadata": {},
          "execution_count": 32
        }
      ]
    },
    {
      "cell_type": "code",
      "source": [
        "torch.zeros_like(x)"
      ],
      "metadata": {
        "colab": {
          "base_uri": "https://localhost:8080/"
        },
        "id": "PyyKSNHTlXMU",
        "outputId": "fc79e694-0e49-4c4e-9403-c79c32794e7a"
      },
      "execution_count": null,
      "outputs": [
        {
          "output_type": "execute_result",
          "data": {
            "text/plain": [
              "tensor([[0, 0, 0],\n",
              "        [0, 0, 0]])"
            ]
          },
          "metadata": {},
          "execution_count": 34
        }
      ]
    },
    {
      "cell_type": "code",
      "source": [
        "torch.ones_like(x)"
      ],
      "metadata": {
        "colab": {
          "base_uri": "https://localhost:8080/"
        },
        "id": "WtKV7Wxalb3l",
        "outputId": "fee2c3cc-54a7-4646-cb41-d5755438c6dd"
      },
      "execution_count": null,
      "outputs": [
        {
          "output_type": "execute_result",
          "data": {
            "text/plain": [
              "tensor([[1, 1, 1],\n",
              "        [1, 1, 1]])"
            ]
          },
          "metadata": {},
          "execution_count": 35
        }
      ]
    },
    {
      "cell_type": "code",
      "source": [
        "torch.rand_like(x, dtype=torch.float32) # this need to specifiy"
      ],
      "metadata": {
        "colab": {
          "base_uri": "https://localhost:8080/"
        },
        "id": "1WS_uk8ileyH",
        "outputId": "7e0655c1-246b-489c-b2ab-fd5522b11340"
      },
      "execution_count": null,
      "outputs": [
        {
          "output_type": "execute_result",
          "data": {
            "text/plain": [
              "tensor([[0.2627, 0.0428, 0.2080],\n",
              "        [0.1180, 0.1217, 0.7356]])"
            ]
          },
          "metadata": {},
          "execution_count": 36
        }
      ]
    },
    {
      "cell_type": "markdown",
      "source": [
        "## Tensor Data Types"
      ],
      "metadata": {
        "id": "nYM1fR5BmxIf"
      }
    },
    {
      "cell_type": "code",
      "source": [
        "# find data type\n",
        "x.dtype"
      ],
      "metadata": {
        "colab": {
          "base_uri": "https://localhost:8080/"
        },
        "id": "Jy-rBsKSliAe",
        "outputId": "0b0cb432-cdb4-440d-89ed-5198e77378b9"
      },
      "execution_count": null,
      "outputs": [
        {
          "output_type": "execute_result",
          "data": {
            "text/plain": [
              "torch.int64"
            ]
          },
          "metadata": {},
          "execution_count": 37
        }
      ]
    },
    {
      "cell_type": "code",
      "source": [
        "# assign data type\n",
        "torch.tensor([1.0,2.0,3.0], dtype=torch.int32)"
      ],
      "metadata": {
        "colab": {
          "base_uri": "https://localhost:8080/"
        },
        "id": "6T2gmrujnaMA",
        "outputId": "0059ded6-8c4b-4711-bd9f-c2ce2a380399"
      },
      "execution_count": null,
      "outputs": [
        {
          "output_type": "execute_result",
          "data": {
            "text/plain": [
              "tensor([1, 2, 3], dtype=torch.int32)"
            ]
          },
          "metadata": {},
          "execution_count": 38
        }
      ]
    },
    {
      "cell_type": "code",
      "source": [
        "torch.tensor([1,2,3], dtype=torch.float64)"
      ],
      "metadata": {
        "colab": {
          "base_uri": "https://localhost:8080/"
        },
        "id": "wZ8lMLsInffd",
        "outputId": "eee1f35f-258c-40e7-d2e1-65015f055a39"
      },
      "execution_count": null,
      "outputs": [
        {
          "output_type": "execute_result",
          "data": {
            "text/plain": [
              "tensor([1., 2., 3.], dtype=torch.float64)"
            ]
          },
          "metadata": {},
          "execution_count": 39
        }
      ]
    },
    {
      "cell_type": "code",
      "source": [
        "# using to()\n",
        "x.to(torch.float32)"
      ],
      "metadata": {
        "colab": {
          "base_uri": "https://localhost:8080/"
        },
        "id": "WTAB-h_ing07",
        "outputId": "d5cbb7ae-1bdd-4c58-ec8a-079cb84c4375"
      },
      "execution_count": null,
      "outputs": [
        {
          "output_type": "execute_result",
          "data": {
            "text/plain": [
              "tensor([[1., 2., 3.],\n",
              "        [4., 5., 6.]])"
            ]
          },
          "metadata": {},
          "execution_count": 40
        }
      ]
    },
    {
      "cell_type": "markdown",
      "source": [
        "| **Data Type**             | **Dtype**         | **Description**                                                                                                                                                                |\n",
        "|---------------------------|-------------------|--------------------------------------------------------------------------------------------------------------------------------------------------------------------------------|\n",
        "| **32-bit Floating Point** | `torch.float32`   | Standard floating-point type used for most deep learning tasks. Provides a balance between precision and memory usage.                                                         |\n",
        "| **64-bit Floating Point** | `torch.float64`   | Double-precision floating point. Useful for high-precision numerical tasks but uses more memory.                                                                               |\n",
        "| **16-bit Floating Point** | `torch.float16`   | Half-precision floating point. Commonly used in mixed-precision training to reduce memory and computational overhead on modern GPUs.                                            |\n",
        "| **BFloat16**              | `torch.bfloat16`  | Brain floating-point format with reduced precision compared to `float16`. Used in mixed-precision training, especially on TPUs.                                                |\n",
        "| **8-bit Floating Point**  | `torch.float8`    | Ultra-low-precision floating point. Used for experimental applications and extreme memory-constrained environments (less common).                                               |\n",
        "| **8-bit Integer**         | `torch.int8`      | 8-bit signed integer. Used for quantized models to save memory and computation in inference.                                                                                   |\n",
        "| **16-bit Integer**        | `torch.int16`     | 16-bit signed integer. Useful for special numerical tasks requiring intermediate precision.                                                                                    |\n",
        "| **32-bit Integer**        | `torch.int32`     | Standard signed integer type. Commonly used for indexing and general-purpose numerical tasks.                                                                                  |\n",
        "| **64-bit Integer**        | `torch.int64`     | Long integer type. Often used for large indexing arrays or for tasks involving large numbers.                                                                                  |\n",
        "| **8-bit Unsigned Integer**| `torch.uint8`     | 8-bit unsigned integer. Commonly used for image data (e.g., pixel values between 0 and 255).                                                                                    |\n",
        "| **Boolean**               | `torch.bool`      | Boolean type, stores `True` or `False` values. Often used for masks in logical operations.                                                                                      |\n",
        "| **Complex 64**            | `torch.complex64` | Complex number type with 32-bit real and 32-bit imaginary parts. Used for scientific and signal processing tasks.                                                               |\n",
        "| **Complex 128**           | `torch.complex128`| Complex number type with 64-bit real and 64-bit imaginary parts. Offers higher precision but uses more memory.                                                                 |\n",
        "| **Quantized Integer**     | `torch.qint8`     | Quantized signed 8-bit integer. Used in quantized models for efficient inference.                                                                                              |\n",
        "| **Quantized Unsigned Integer** | `torch.quint8` | Quantized unsigned 8-bit integer. Often used for quantized tensors in image-related tasks.                                                                                     |\n"
      ],
      "metadata": {
        "id": "dLm25jhknmuQ"
      }
    },
    {
      "cell_type": "markdown",
      "source": [
        "## Mathematical operations"
      ],
      "metadata": {
        "id": "baPoka3lqpEQ"
      }
    },
    {
      "cell_type": "markdown",
      "source": [
        "### 1. Scalar operation"
      ],
      "metadata": {
        "id": "wre7rSdlqsOB"
      }
    },
    {
      "cell_type": "code",
      "source": [
        "x = torch.rand(2,2)\n",
        "x"
      ],
      "metadata": {
        "colab": {
          "base_uri": "https://localhost:8080/"
        },
        "id": "CS69nYyanqYD",
        "outputId": "02944ccd-8ba6-4880-840b-69c29df0afa4"
      },
      "execution_count": null,
      "outputs": [
        {
          "output_type": "execute_result",
          "data": {
            "text/plain": [
              "tensor([[0.7118, 0.7876],\n",
              "        [0.4183, 0.9014]])"
            ]
          },
          "metadata": {},
          "execution_count": 41
        }
      ]
    },
    {
      "cell_type": "code",
      "source": [
        "# addition\n",
        "x + 2\n"
      ],
      "metadata": {
        "colab": {
          "base_uri": "https://localhost:8080/"
        },
        "id": "ztrwQq-cqyz9",
        "outputId": "7832e772-d569-43ed-9347-2e150a780123"
      },
      "execution_count": null,
      "outputs": [
        {
          "output_type": "execute_result",
          "data": {
            "text/plain": [
              "tensor([[2.7118, 2.7876],\n",
              "        [2.4183, 2.9014]])"
            ]
          },
          "metadata": {},
          "execution_count": 43
        }
      ]
    },
    {
      "cell_type": "code",
      "source": [
        "# substraction\n",
        "x - 2\n",
        "# multiplication\n",
        "x * 3\n",
        "# division\n",
        "x / 3\n",
        "# int division\n",
        "(x * 100)//3\n",
        "# mod\n",
        "((x * 100)//3)%2\n",
        "# power\n",
        "x**2"
      ],
      "metadata": {
        "colab": {
          "base_uri": "https://localhost:8080/"
        },
        "id": "FqkXyHD_f3Nu",
        "outputId": "85f89192-8665-44d1-e040-8dd9b9ae8ec0"
      },
      "execution_count": null,
      "outputs": [
        {
          "output_type": "execute_result",
          "data": {
            "text/plain": [
              "tensor([[0.5066, 0.6203],\n",
              "        [0.1750, 0.8125]])"
            ]
          },
          "metadata": {},
          "execution_count": 44
        }
      ]
    },
    {
      "cell_type": "markdown",
      "source": [
        "### 2. Element wise operation"
      ],
      "metadata": {
        "id": "y2n84o2ZrGcY"
      }
    },
    {
      "cell_type": "code",
      "source": [
        "a = torch.rand(2,3)\n",
        "b = torch.rand(2,3)\n",
        "\n",
        "print(a)\n",
        "print(b)"
      ],
      "metadata": {
        "colab": {
          "base_uri": "https://localhost:8080/"
        },
        "id": "PcnbNatwq1_3",
        "outputId": "a285f703-2bcb-44d0-b050-31b8edb8a989"
      },
      "execution_count": null,
      "outputs": [
        {
          "output_type": "stream",
          "name": "stdout",
          "text": [
            "tensor([[0.9969, 0.7565, 0.2239],\n",
            "        [0.3023, 0.1784, 0.8238]])\n",
            "tensor([[0.5557, 0.9770, 0.4440],\n",
            "        [0.9478, 0.7445, 0.4892]])\n"
          ]
        }
      ]
    },
    {
      "cell_type": "code",
      "source": [
        "# add\n",
        "a + b\n",
        "# sub\n",
        "a - b\n",
        "# multiply\n",
        "a * b\n",
        "# division\n",
        "a / b\n",
        "# power\n",
        "a ** b\n",
        "# mod\n",
        "a % b"
      ],
      "metadata": {
        "colab": {
          "base_uri": "https://localhost:8080/"
        },
        "id": "Qye9acabrUae",
        "outputId": "bafbd87d-cb10-4358-9b5b-bbac0d738386"
      },
      "execution_count": null,
      "outputs": [
        {
          "output_type": "execute_result",
          "data": {
            "text/plain": [
              "tensor([[0.4411, 0.7565, 0.2239],\n",
              "        [0.3023, 0.1784, 0.3346]])"
            ]
          },
          "metadata": {},
          "execution_count": 46
        }
      ]
    },
    {
      "cell_type": "code",
      "source": [
        "c = torch.tensor([1, -2, 3, -4])"
      ],
      "metadata": {
        "id": "ftIq3-30rnhR"
      },
      "execution_count": null,
      "outputs": []
    },
    {
      "cell_type": "code",
      "source": [
        "# abs\n",
        "torch.abs(c)"
      ],
      "metadata": {
        "colab": {
          "base_uri": "https://localhost:8080/"
        },
        "id": "GHWZWPxWr4rG",
        "outputId": "6267d5f8-c584-4d4f-99ca-cee764716292"
      },
      "execution_count": null,
      "outputs": [
        {
          "output_type": "execute_result",
          "data": {
            "text/plain": [
              "tensor([1, 2, 3, 4])"
            ]
          },
          "metadata": {},
          "execution_count": 48
        }
      ]
    },
    {
      "cell_type": "code",
      "source": [
        "# negative\n",
        "torch.neg(c)"
      ],
      "metadata": {
        "colab": {
          "base_uri": "https://localhost:8080/"
        },
        "id": "kROGMVNtrtfT",
        "outputId": "9f789613-c3cd-417d-f013-e41c9ed38e53"
      },
      "execution_count": null,
      "outputs": [
        {
          "output_type": "execute_result",
          "data": {
            "text/plain": [
              "tensor([-1,  2, -3,  4])"
            ]
          },
          "metadata": {},
          "execution_count": 49
        }
      ]
    },
    {
      "cell_type": "code",
      "source": [
        "d = torch.tensor([1.9, 2.3, 3.7, 4.4])"
      ],
      "metadata": {
        "id": "U2RLWzlaryKh"
      },
      "execution_count": null,
      "outputs": []
    },
    {
      "cell_type": "code",
      "source": [
        "# round\n",
        "torch.round(d)"
      ],
      "metadata": {
        "colab": {
          "base_uri": "https://localhost:8080/"
        },
        "id": "g4OrL7w9sAWF",
        "outputId": "92a845b3-cffd-4f00-d73b-03282edacc0a"
      },
      "execution_count": null,
      "outputs": [
        {
          "output_type": "execute_result",
          "data": {
            "text/plain": [
              "tensor([2., 2., 4., 4.])"
            ]
          },
          "metadata": {},
          "execution_count": 51
        }
      ]
    },
    {
      "cell_type": "code",
      "source": [
        "# ceil\n",
        "torch.ceil(d)"
      ],
      "metadata": {
        "colab": {
          "base_uri": "https://localhost:8080/"
        },
        "id": "1fPsOYOAsEE6",
        "outputId": "cc42b9b3-5e00-4e99-df4c-0896d9eeeb62"
      },
      "execution_count": null,
      "outputs": [
        {
          "output_type": "execute_result",
          "data": {
            "text/plain": [
              "tensor([2., 3., 4., 5.])"
            ]
          },
          "metadata": {},
          "execution_count": 52
        }
      ]
    },
    {
      "cell_type": "code",
      "source": [
        "# floor\n",
        "torch.floor(d)"
      ],
      "metadata": {
        "colab": {
          "base_uri": "https://localhost:8080/"
        },
        "id": "ilT0yf1TsE6G",
        "outputId": "12af6cf7-9e0e-48b6-b8b6-69c2dcb5e4fe"
      },
      "execution_count": null,
      "outputs": [
        {
          "output_type": "execute_result",
          "data": {
            "text/plain": [
              "tensor([1., 2., 3., 4.])"
            ]
          },
          "metadata": {},
          "execution_count": 53
        }
      ]
    },
    {
      "cell_type": "code",
      "source": [
        "# clamp\n",
        "torch.clamp(d, min=2, max=3)"
      ],
      "metadata": {
        "colab": {
          "base_uri": "https://localhost:8080/"
        },
        "id": "ZzVkY4xgsFvP",
        "outputId": "39ea96e1-2a11-46ed-a756-dee74f120e87"
      },
      "execution_count": null,
      "outputs": [
        {
          "output_type": "execute_result",
          "data": {
            "text/plain": [
              "tensor([2.0000, 2.3000, 3.0000, 3.0000])"
            ]
          },
          "metadata": {},
          "execution_count": 170
        }
      ]
    },
    {
      "cell_type": "markdown",
      "source": [
        "ertainly! The selected cell uses the torch.clamp() function from the PyTorch library.\n",
        "\n",
        "torch.clamp(d, min=2, max=3): This function \"clamps\" the values in the tensor d so that they are within a specified range. Any value in d that is less than min will be replaced by min, and any value greater than max will be replaced by max. Values within the range [min, max] remain unchanged. In this specific code, it will ensure that all values in d are between 2 and 3 (inclusive)."
      ],
      "metadata": {
        "id": "_L3aXT4_gYHh"
      }
    },
    {
      "cell_type": "markdown",
      "source": [
        "### 3. Reduction operation"
      ],
      "metadata": {
        "id": "4vWfG_ZmsN0J"
      }
    },
    {
      "cell_type": "code",
      "source": [
        "e = torch.randint(size=(2,3), low=0, high=10, dtype=torch.float32)\n",
        "e"
      ],
      "metadata": {
        "colab": {
          "base_uri": "https://localhost:8080/"
        },
        "id": "JQBlGL52sGae",
        "outputId": "1315a97a-17b8-424b-dc2f-c7cfb0c71d26"
      },
      "execution_count": null,
      "outputs": [
        {
          "output_type": "execute_result",
          "data": {
            "text/plain": [
              "tensor([[5., 7., 3.],\n",
              "        [9., 4., 0.]])"
            ]
          },
          "metadata": {},
          "execution_count": 61
        }
      ]
    },
    {
      "cell_type": "code",
      "source": [
        "# sum\n",
        "torch.sum(e)\n"
      ],
      "metadata": {
        "colab": {
          "base_uri": "https://localhost:8080/"
        },
        "id": "9o8zMdUosWSs",
        "outputId": "4e0e5555-5f7b-4bed-b0bd-d88a955da3e0"
      },
      "execution_count": null,
      "outputs": [
        {
          "output_type": "execute_result",
          "data": {
            "text/plain": [
              "tensor(28.)"
            ]
          },
          "metadata": {},
          "execution_count": 62
        }
      ]
    },
    {
      "cell_type": "code",
      "source": [
        "# sum along columns\n",
        "torch.sum(e, dim=0)\n"
      ],
      "metadata": {
        "colab": {
          "base_uri": "https://localhost:8080/"
        },
        "id": "vj76hSYOgpgp",
        "outputId": "73bd5c3d-bfee-49cf-a5ad-3f9c9427ef3a"
      },
      "execution_count": null,
      "outputs": [
        {
          "output_type": "execute_result",
          "data": {
            "text/plain": [
              "tensor([14., 11.,  3.])"
            ]
          },
          "metadata": {},
          "execution_count": 63
        }
      ]
    },
    {
      "cell_type": "code",
      "source": [
        "# sum along rows\n",
        "torch.sum(e, dim=1)"
      ],
      "metadata": {
        "colab": {
          "base_uri": "https://localhost:8080/"
        },
        "id": "rGzfNMGggqyK",
        "outputId": "f7088d4f-6417-4735-863d-a7e59b741d7b"
      },
      "execution_count": null,
      "outputs": [
        {
          "output_type": "execute_result",
          "data": {
            "text/plain": [
              "tensor([15., 13.])"
            ]
          },
          "metadata": {},
          "execution_count": 64
        }
      ]
    },
    {
      "cell_type": "code",
      "source": [
        "# mean\n",
        "torch.mean(e)\n"
      ],
      "metadata": {
        "colab": {
          "base_uri": "https://localhost:8080/"
        },
        "id": "5Am6Hrdssl90",
        "outputId": "7eecd7fa-bebf-4c06-fa64-0cc4bc9ded79"
      },
      "execution_count": null,
      "outputs": [
        {
          "output_type": "execute_result",
          "data": {
            "text/plain": [
              "tensor(4.6667)"
            ]
          },
          "metadata": {},
          "execution_count": 65
        }
      ]
    },
    {
      "cell_type": "code",
      "source": [
        "# mean along col\n",
        "torch.mean(e, dim=0)"
      ],
      "metadata": {
        "colab": {
          "base_uri": "https://localhost:8080/"
        },
        "id": "RB_I4e_9gzZB",
        "outputId": "e53fd883-2531-4671-c863-e18f85e8b465"
      },
      "execution_count": null,
      "outputs": [
        {
          "output_type": "execute_result",
          "data": {
            "text/plain": [
              "tensor([7.0000, 5.5000, 1.5000])"
            ]
          },
          "metadata": {},
          "execution_count": 66
        }
      ]
    },
    {
      "cell_type": "code",
      "source": [
        "# median\n",
        "torch.median(e)"
      ],
      "metadata": {
        "colab": {
          "base_uri": "https://localhost:8080/"
        },
        "id": "wIXESOkIs8M8",
        "outputId": "4cd3332a-48d4-443b-a832-da66f3222dc2"
      },
      "execution_count": null,
      "outputs": [
        {
          "output_type": "execute_result",
          "data": {
            "text/plain": [
              "tensor(4.)"
            ]
          },
          "metadata": {},
          "execution_count": 67
        }
      ]
    },
    {
      "cell_type": "code",
      "source": [
        "# max and min\n",
        "torch.max(e)\n",
        "torch.min(e)"
      ],
      "metadata": {
        "colab": {
          "base_uri": "https://localhost:8080/"
        },
        "id": "RIs7y6cysnFT",
        "outputId": "5165e1a2-b56f-426b-da3a-392d3ec21a7c"
      },
      "execution_count": null,
      "outputs": [
        {
          "output_type": "execute_result",
          "data": {
            "text/plain": [
              "tensor(0.)"
            ]
          },
          "metadata": {},
          "execution_count": 68
        }
      ]
    },
    {
      "cell_type": "code",
      "source": [
        "# product\n",
        "torch.prod(e)"
      ],
      "metadata": {
        "colab": {
          "base_uri": "https://localhost:8080/"
        },
        "id": "TIP4CUwasw4Q",
        "outputId": "837b1583-2833-4fb6-96bc-b8ac7a4ac2d1"
      },
      "execution_count": null,
      "outputs": [
        {
          "output_type": "execute_result",
          "data": {
            "text/plain": [
              "tensor(0.)"
            ]
          },
          "metadata": {},
          "execution_count": 69
        }
      ]
    },
    {
      "cell_type": "code",
      "source": [
        "# standard deviation\n",
        "torch.std(e)"
      ],
      "metadata": {
        "colab": {
          "base_uri": "https://localhost:8080/"
        },
        "id": "BAQIjNjwsyLF",
        "outputId": "a68f61bc-2bd4-4ad5-9be9-c3e2b9515418"
      },
      "execution_count": null,
      "outputs": [
        {
          "output_type": "execute_result",
          "data": {
            "text/plain": [
              "tensor(3.1411)"
            ]
          },
          "metadata": {},
          "execution_count": 70
        }
      ]
    },
    {
      "cell_type": "code",
      "source": [
        "# variance\n",
        "torch.var(e)"
      ],
      "metadata": {
        "colab": {
          "base_uri": "https://localhost:8080/"
        },
        "id": "78S1Ggv_s2nC",
        "outputId": "79490821-e084-4aa7-9926-a3b32b4eba6f"
      },
      "execution_count": null,
      "outputs": [
        {
          "output_type": "execute_result",
          "data": {
            "text/plain": [
              "tensor(9.8667)"
            ]
          },
          "metadata": {},
          "execution_count": 71
        }
      ]
    },
    {
      "cell_type": "code",
      "source": [
        "# argmax\n",
        "torch.argmax(e) # postion of the maximum"
      ],
      "metadata": {
        "colab": {
          "base_uri": "https://localhost:8080/"
        },
        "id": "EOtGIsd9s3UZ",
        "outputId": "54693828-f4e6-4805-f24c-8eb68c8e46fd"
      },
      "execution_count": null,
      "outputs": [
        {
          "output_type": "execute_result",
          "data": {
            "text/plain": [
              "tensor(3)"
            ]
          },
          "metadata": {},
          "execution_count": 73
        }
      ]
    },
    {
      "cell_type": "code",
      "source": [
        "# argmin\n",
        "torch.argmin(e)"
      ],
      "metadata": {
        "colab": {
          "base_uri": "https://localhost:8080/"
        },
        "id": "J23C1bwes6TL",
        "outputId": "eac9e8ec-ad7b-424c-b913-25a2cc7d199b"
      },
      "execution_count": null,
      "outputs": [
        {
          "output_type": "execute_result",
          "data": {
            "text/plain": [
              "tensor(5)"
            ]
          },
          "metadata": {},
          "execution_count": 74
        }
      ]
    },
    {
      "cell_type": "markdown",
      "source": [
        "### 4. Matrix operations"
      ],
      "metadata": {
        "id": "dw_h9fvMtLXw"
      }
    },
    {
      "cell_type": "code",
      "source": [
        "f = torch.randint(size=(2,3), low=0, high=10)\n",
        "g = torch.randint(size=(3,2), low=0, high=10)\n",
        "\n",
        "print(f)\n",
        "print(g)"
      ],
      "metadata": {
        "colab": {
          "base_uri": "https://localhost:8080/"
        },
        "id": "a54MqBBQs7BJ",
        "outputId": "52922c39-7059-4e0a-b697-b4976fdc47d8"
      },
      "execution_count": null,
      "outputs": [
        {
          "output_type": "stream",
          "name": "stdout",
          "text": [
            "tensor([[5, 7, 5],\n",
            "        [9, 9, 7]])\n",
            "tensor([[5, 9],\n",
            "        [8, 9],\n",
            "        [7, 9]])\n"
          ]
        }
      ]
    },
    {
      "cell_type": "code",
      "source": [
        "# matrix multiplcation\n",
        "torch.matmul(f, g)"
      ],
      "metadata": {
        "colab": {
          "base_uri": "https://localhost:8080/"
        },
        "id": "BqQ7sNBctWfS",
        "outputId": "f99b5439-82dc-452e-d0e1-6b2774efa49d"
      },
      "execution_count": null,
      "outputs": [
        {
          "output_type": "execute_result",
          "data": {
            "text/plain": [
              "tensor([[116, 153],\n",
              "        [166, 225]])"
            ]
          },
          "metadata": {},
          "execution_count": 76
        }
      ]
    },
    {
      "cell_type": "code",
      "source": [
        "vector1 = torch.tensor([1, 2])\n",
        "vector2 = torch.tensor([3, 4])\n",
        "\n",
        "# dot product\n",
        "torch.dot(vector1, vector2)"
      ],
      "metadata": {
        "colab": {
          "base_uri": "https://localhost:8080/"
        },
        "id": "CopN1Oe5tZrD",
        "outputId": "7810b7ee-a81a-4afa-a53b-1d739bba0aec"
      },
      "execution_count": null,
      "outputs": [
        {
          "output_type": "execute_result",
          "data": {
            "text/plain": [
              "tensor(11)"
            ]
          },
          "metadata": {},
          "execution_count": 77
        }
      ]
    },
    {
      "cell_type": "code",
      "source": [
        "# transpose\n",
        "torch.transpose(f, 0, 1)"
      ],
      "metadata": {
        "colab": {
          "base_uri": "https://localhost:8080/"
        },
        "id": "9Imz3Vq6ta4y",
        "outputId": "1efbb6c1-5d2b-46a2-c76c-a99b78ab19d4"
      },
      "execution_count": null,
      "outputs": [
        {
          "output_type": "execute_result",
          "data": {
            "text/plain": [
              "tensor([[5, 9],\n",
              "        [7, 9],\n",
              "        [5, 7]])"
            ]
          },
          "metadata": {},
          "execution_count": 78
        }
      ]
    },
    {
      "cell_type": "code",
      "source": [
        "h = torch.randint(size=(3,3), low=0, high=10, dtype=torch.float32)\n",
        "h"
      ],
      "metadata": {
        "colab": {
          "base_uri": "https://localhost:8080/"
        },
        "id": "yEfuS9ZKtdSi",
        "outputId": "a7dcf4fa-5006-4aed-e8cf-b50195c59a06"
      },
      "execution_count": null,
      "outputs": [
        {
          "output_type": "execute_result",
          "data": {
            "text/plain": [
              "tensor([[2., 6., 7.],\n",
              "        [7., 8., 3.],\n",
              "        [6., 1., 5.]])"
            ]
          },
          "metadata": {},
          "execution_count": 79
        }
      ]
    },
    {
      "cell_type": "code",
      "source": [
        "# determinant\n",
        "torch.det(h)"
      ],
      "metadata": {
        "colab": {
          "base_uri": "https://localhost:8080/"
        },
        "id": "PqfUsUvttpXZ",
        "outputId": "b0acdae0-1857-4d29-dc34-a0c3821ac7cd"
      },
      "execution_count": null,
      "outputs": [
        {
          "output_type": "execute_result",
          "data": {
            "text/plain": [
              "tensor(-315.)"
            ]
          },
          "metadata": {},
          "execution_count": 80
        }
      ]
    },
    {
      "cell_type": "code",
      "source": [
        "# inverse\n",
        "torch.inverse(h)"
      ],
      "metadata": {
        "colab": {
          "base_uri": "https://localhost:8080/"
        },
        "id": "X0khPormts14",
        "outputId": "b5575aae-8752-41f2-a2f8-de77d27cf1b8"
      },
      "execution_count": null,
      "outputs": [
        {
          "output_type": "execute_result",
          "data": {
            "text/plain": [
              "tensor([[-0.1175,  0.0730,  0.1206],\n",
              "        [ 0.0540,  0.1016, -0.1365],\n",
              "        [ 0.1302, -0.1079,  0.0825]])"
            ]
          },
          "metadata": {},
          "execution_count": 81
        }
      ]
    },
    {
      "cell_type": "markdown",
      "source": [
        "### 5. Comparison operations"
      ],
      "metadata": {
        "id": "-lEkBmv5t1nB"
      }
    },
    {
      "cell_type": "code",
      "source": [
        "i = torch.randint(size=(2,3), low=0, high=10)\n",
        "j = torch.randint(size=(2,3), low=0, high=10)\n",
        "\n",
        "print(i)\n",
        "print(j)"
      ],
      "metadata": {
        "colab": {
          "base_uri": "https://localhost:8080/"
        },
        "id": "G89Keg-xtxUr",
        "outputId": "a4f6e1aa-6f49-4257-bdb6-dbbafc8f8659"
      },
      "execution_count": null,
      "outputs": [
        {
          "output_type": "stream",
          "name": "stdout",
          "text": [
            "tensor([[5, 0, 4],\n",
            "        [3, 8, 8]])\n",
            "tensor([[3, 3, 5],\n",
            "        [0, 6, 4]])\n"
          ]
        }
      ]
    },
    {
      "cell_type": "code",
      "source": [
        "# greater than\n",
        "i > j\n"
      ],
      "metadata": {
        "colab": {
          "base_uri": "https://localhost:8080/"
        },
        "id": "F5v--5uiuBWW",
        "outputId": "87ac9933-6da0-4bcc-fbde-cf56aa390e09"
      },
      "execution_count": null,
      "outputs": [
        {
          "output_type": "execute_result",
          "data": {
            "text/plain": [
              "tensor([[ True, False, False],\n",
              "        [ True,  True,  True]])"
            ]
          },
          "metadata": {},
          "execution_count": 84
        }
      ]
    },
    {
      "cell_type": "code",
      "source": [
        "# less than\n",
        "i < j\n"
      ],
      "metadata": {
        "colab": {
          "base_uri": "https://localhost:8080/"
        },
        "id": "HpDX54JShs-8",
        "outputId": "a7698e27-4a2d-416d-fcf9-7e25a4c3ed1e"
      },
      "execution_count": null,
      "outputs": [
        {
          "output_type": "execute_result",
          "data": {
            "text/plain": [
              "tensor([[False,  True,  True],\n",
              "        [False, False, False]])"
            ]
          },
          "metadata": {},
          "execution_count": 85
        }
      ]
    },
    {
      "cell_type": "code",
      "source": [
        "# equal to\n",
        "i == j\n",
        "# not equal to\n",
        "i != j\n",
        "# greater than equal to\n",
        "\n",
        "# less than equal to"
      ],
      "metadata": {
        "colab": {
          "base_uri": "https://localhost:8080/"
        },
        "id": "VE7hfSsohukt",
        "outputId": "5653051e-d3ce-408d-e652-ca2006b77290"
      },
      "execution_count": null,
      "outputs": [
        {
          "output_type": "execute_result",
          "data": {
            "text/plain": [
              "tensor([[True, True, True],\n",
              "        [True, True, True]])"
            ]
          },
          "metadata": {},
          "execution_count": 86
        }
      ]
    },
    {
      "cell_type": "markdown",
      "source": [
        "### 6. Special functions"
      ],
      "metadata": {
        "id": "jd9JzlO1uaf3"
      }
    },
    {
      "cell_type": "code",
      "source": [
        "k = torch.randint(size=(2,3), low=0, high=10, dtype=torch.float32)\n",
        "k"
      ],
      "metadata": {
        "colab": {
          "base_uri": "https://localhost:8080/"
        },
        "id": "lKU6tQpyuY0M",
        "outputId": "5dce15cf-1fe7-4d3d-ebe1-4e60f3bd8f24"
      },
      "execution_count": null,
      "outputs": [
        {
          "output_type": "execute_result",
          "data": {
            "text/plain": [
              "tensor([[0., 8., 4.],\n",
              "        [7., 2., 3.]])"
            ]
          },
          "metadata": {},
          "execution_count": 87
        }
      ]
    },
    {
      "cell_type": "code",
      "source": [
        "# log\n",
        "torch.log(k)"
      ],
      "metadata": {
        "colab": {
          "base_uri": "https://localhost:8080/"
        },
        "id": "-gl1dhdVuDOE",
        "outputId": "3633f071-2940-462d-85e0-5ee982d21014"
      },
      "execution_count": null,
      "outputs": [
        {
          "output_type": "execute_result",
          "data": {
            "text/plain": [
              "tensor([[  -inf, 2.0794, 1.3863],\n",
              "        [1.9459, 0.6931, 1.0986]])"
            ]
          },
          "metadata": {},
          "execution_count": 88
        }
      ]
    },
    {
      "cell_type": "code",
      "source": [
        "# exp\n",
        "torch.exp(k)"
      ],
      "metadata": {
        "colab": {
          "base_uri": "https://localhost:8080/"
        },
        "id": "rQSpBdkbujck",
        "outputId": "6b8740e7-474f-48cb-b7a1-02a1e113ce66"
      },
      "execution_count": null,
      "outputs": [
        {
          "output_type": "execute_result",
          "data": {
            "text/plain": [
              "tensor([[1.0000e+00, 2.9810e+03, 5.4598e+01],\n",
              "        [1.0966e+03, 7.3891e+00, 2.0086e+01]])"
            ]
          },
          "metadata": {},
          "execution_count": 89
        }
      ]
    },
    {
      "cell_type": "code",
      "source": [
        "device = \"cuda\" if torch.cuda.is_available() else \"cpu\"# sqrt\n",
        "torch.sqrt(k)"
      ],
      "metadata": {
        "colab": {
          "base_uri": "https://localhost:8080/"
        },
        "id": "gTDfXdbVukh0",
        "outputId": "4aac97a3-97ed-4a67-b44c-10353aa28931"
      },
      "execution_count": null,
      "outputs": [
        {
          "output_type": "execute_result",
          "data": {
            "text/plain": [
              "tensor([[0.0000, 2.8284, 2.0000],\n",
              "        [2.6458, 1.4142, 1.7321]])"
            ]
          },
          "metadata": {},
          "execution_count": 90
        }
      ]
    },
    {
      "cell_type": "code",
      "source": [
        "# sigmoid\n",
        "torch.sigmoid(k)"
      ],
      "metadata": {
        "colab": {
          "base_uri": "https://localhost:8080/"
        },
        "id": "d-rbMIVPunhr",
        "outputId": "526995ea-f87d-43cd-8fb9-dd4e9bfbda47"
      },
      "execution_count": null,
      "outputs": [
        {
          "output_type": "execute_result",
          "data": {
            "text/plain": [
              "tensor([[0.5000, 0.9997, 0.9820],\n",
              "        [0.9991, 0.8808, 0.9526]])"
            ]
          },
          "metadata": {},
          "execution_count": 91
        }
      ]
    },
    {
      "cell_type": "code",
      "source": [
        "# softmax\n",
        "torch.softmax(k, dim=0)"
      ],
      "metadata": {
        "colab": {
          "base_uri": "https://localhost:8080/"
        },
        "id": "X74chVfQusqf",
        "outputId": "7c602318-ef9e-4962-bd08-e8f0f30d6223"
      },
      "execution_count": null,
      "outputs": [
        {
          "output_type": "execute_result",
          "data": {
            "text/plain": [
              "tensor([[9.1105e-04, 9.9753e-01, 7.3106e-01],\n",
              "        [9.9909e-01, 2.4726e-03, 2.6894e-01]])"
            ]
          },
          "metadata": {},
          "execution_count": 92
        }
      ]
    },
    {
      "cell_type": "code",
      "source": [
        "# relu\n",
        "torch.relu(k)"
      ],
      "metadata": {
        "colab": {
          "base_uri": "https://localhost:8080/"
        },
        "id": "JnLG2JbyutvC",
        "outputId": "d7e0f58d-a7d5-4214-f779-2f11cd2374f5"
      },
      "execution_count": null,
      "outputs": [
        {
          "output_type": "execute_result",
          "data": {
            "text/plain": [
              "tensor([[0., 8., 4.],\n",
              "        [7., 2., 3.]])"
            ]
          },
          "metadata": {},
          "execution_count": 93
        }
      ]
    },
    {
      "cell_type": "markdown",
      "source": [
        "## Inplace Operations"
      ],
      "metadata": {
        "id": "JQ7im-Mz9Mu9"
      }
    },
    {
      "cell_type": "code",
      "source": [
        "torch.ones(2,3)"
      ],
      "metadata": {
        "colab": {
          "base_uri": "https://localhost:8080/"
        },
        "id": "AFokcsUSiWsA",
        "outputId": "17554772-f257-4762-933b-1a45b2c5219d"
      },
      "execution_count": null,
      "outputs": [
        {
          "output_type": "execute_result",
          "data": {
            "text/plain": [
              "tensor([[1., 1., 1.],\n",
              "        [1., 1., 1.]])"
            ]
          },
          "metadata": {},
          "execution_count": 106
        }
      ]
    },
    {
      "cell_type": "code",
      "source": [
        "m = torch.rand(2,3)\n",
        "n = torch.rand(2,3)\n",
        "\n",
        "print(m)\n",
        "print(n)"
      ],
      "metadata": {
        "colab": {
          "base_uri": "https://localhost:8080/"
        },
        "id": "mKVMTBq7uufZ",
        "outputId": "0f6d8cc8-e9e3-49c0-fb7a-3a7fef88ffe2"
      },
      "execution_count": null,
      "outputs": [
        {
          "output_type": "stream",
          "name": "stdout",
          "text": [
            "tensor([[0.2243, 0.8935, 0.0497],\n",
            "        [0.1780, 0.3011, 0.1893]])\n",
            "tensor([[0.9186, 0.2131, 0.3957],\n",
            "        [0.6017, 0.4234, 0.5224]])\n"
          ]
        }
      ]
    },
    {
      "cell_type": "code",
      "source": [
        "m.add_(n) # inplace changes"
      ],
      "metadata": {
        "colab": {
          "base_uri": "https://localhost:8080/"
        },
        "id": "HmN2o2Ge_j8h",
        "outputId": "1d5963f1-120d-4914-a854-3fd4bff90a8e"
      },
      "execution_count": null,
      "outputs": [
        {
          "output_type": "execute_result",
          "data": {
            "text/plain": [
              "tensor([[1.1429, 1.1066, 0.4454],\n",
              "        [0.7796, 0.7245, 0.7117]])"
            ]
          },
          "metadata": {},
          "execution_count": 108
        }
      ]
    },
    {
      "cell_type": "code",
      "source": [
        "m"
      ],
      "metadata": {
        "colab": {
          "base_uri": "https://localhost:8080/"
        },
        "id": "1k8bPLhgAN64",
        "outputId": "69871891-0fb7-4a53-cfc6-e6af1e2e2441"
      },
      "execution_count": null,
      "outputs": [
        {
          "output_type": "execute_result",
          "data": {
            "text/plain": [
              "tensor([[1.1429, 1.1066, 0.4454],\n",
              "        [0.7796, 0.7245, 0.7117]])"
            ]
          },
          "metadata": {},
          "execution_count": 109
        }
      ]
    },
    {
      "cell_type": "code",
      "source": [
        "n"
      ],
      "metadata": {
        "colab": {
          "base_uri": "https://localhost:8080/"
        },
        "id": "d_pBAPcGAkHW",
        "outputId": "d1ada10d-cc92-4ae9-d25f-3fbd97e4861f"
      },
      "execution_count": null,
      "outputs": [
        {
          "output_type": "execute_result",
          "data": {
            "text/plain": [
              "tensor([[0.9186, 0.2131, 0.3957],\n",
              "        [0.6017, 0.4234, 0.5224]])"
            ]
          },
          "metadata": {},
          "execution_count": 110
        }
      ]
    },
    {
      "cell_type": "code",
      "source": [
        "torch.relu(m)"
      ],
      "metadata": {
        "colab": {
          "base_uri": "https://localhost:8080/"
        },
        "id": "8OhePrDbAmwh",
        "outputId": "d2bb0f96-3bda-4f4d-dc90-e9a3277fb3ca"
      },
      "execution_count": null,
      "outputs": [
        {
          "output_type": "execute_result",
          "data": {
            "text/plain": [
              "tensor([[1.1429, 1.1066, 0.4454],\n",
              "        [0.7796, 0.7245, 0.7117]])"
            ]
          },
          "metadata": {},
          "execution_count": 111
        }
      ]
    },
    {
      "cell_type": "code",
      "source": [
        "m"
      ],
      "metadata": {
        "colab": {
          "base_uri": "https://localhost:8080/"
        },
        "id": "ADNEwmRfiyFx",
        "outputId": "662eca73-ffcc-46ba-93d3-c9b114b7b5e0"
      },
      "execution_count": null,
      "outputs": [
        {
          "output_type": "execute_result",
          "data": {
            "text/plain": [
              "tensor([[1.1429, 1.1066, 0.4454],\n",
              "        [0.7796, 0.7245, 0.7117]])"
            ]
          },
          "metadata": {},
          "execution_count": 112
        }
      ]
    },
    {
      "cell_type": "code",
      "source": [
        "m.relu_()"
      ],
      "metadata": {
        "colab": {
          "base_uri": "https://localhost:8080/"
        },
        "id": "M_s6WQ0pAuTG",
        "outputId": "16071fe1-cf7e-45f0-bb76-32ff996187a2"
      },
      "execution_count": null,
      "outputs": [
        {
          "output_type": "execute_result",
          "data": {
            "text/plain": [
              "tensor([[1.3486, 0.7721, 3.7028],\n",
              "        [2.6275, 0.5080, 2.2696]])"
            ]
          },
          "metadata": {},
          "execution_count": 104
        }
      ]
    },
    {
      "cell_type": "code",
      "source": [
        "m"
      ],
      "metadata": {
        "colab": {
          "base_uri": "https://localhost:8080/"
        },
        "id": "sucQ4iPYAyqn",
        "outputId": "3e0ce7a7-e4f7-4a56-a52d-d96712a8a066"
      },
      "execution_count": null,
      "outputs": [
        {
          "output_type": "execute_result",
          "data": {
            "text/plain": [
              "tensor([[1.3486, 0.7721, 3.7028],\n",
              "        [2.6275, 0.5080, 2.2696]])"
            ]
          },
          "metadata": {},
          "execution_count": 105
        }
      ]
    },
    {
      "cell_type": "markdown",
      "source": [
        "## Copying a Tensor"
      ],
      "metadata": {
        "id": "7-SgjcqnCN9P"
      }
    },
    {
      "cell_type": "code",
      "source": [
        "a = torch.rand(2,3)\n",
        "a"
      ],
      "metadata": {
        "colab": {
          "base_uri": "https://localhost:8080/"
        },
        "id": "z8SCsW7kA0jt",
        "outputId": "ecf5940e-0bfa-44e4-a5ef-8585441d2843"
      },
      "execution_count": null,
      "outputs": [
        {
          "output_type": "execute_result",
          "data": {
            "text/plain": [
              "tensor([[0.4175, 0.0340, 0.9157],\n",
              "        [0.3079, 0.6269, 0.8277]])"
            ]
          },
          "metadata": {},
          "execution_count": 113
        }
      ]
    },
    {
      "cell_type": "code",
      "source": [
        "b = a"
      ],
      "metadata": {
        "id": "3Z0IUCnpCsCv"
      },
      "execution_count": null,
      "outputs": []
    },
    {
      "cell_type": "code",
      "source": [
        "b"
      ],
      "metadata": {
        "colab": {
          "base_uri": "https://localhost:8080/"
        },
        "id": "1YNvboxaECjm",
        "outputId": "675c1249-4d10-4150-9df2-34dd9205e2aa"
      },
      "execution_count": null,
      "outputs": [
        {
          "output_type": "execute_result",
          "data": {
            "text/plain": [
              "tensor([[0.4175, 0.0340, 0.9157],\n",
              "        [0.3079, 0.6269, 0.8277]])"
            ]
          },
          "metadata": {},
          "execution_count": 115
        }
      ]
    },
    {
      "cell_type": "code",
      "source": [
        "a[0][0] = 0"
      ],
      "metadata": {
        "id": "waV6eAuUEDzq"
      },
      "execution_count": null,
      "outputs": []
    },
    {
      "cell_type": "code",
      "source": [
        "a"
      ],
      "metadata": {
        "colab": {
          "base_uri": "https://localhost:8080/"
        },
        "id": "U7u-UDXpEIgJ",
        "outputId": "98d9acd9-942b-40f4-fb4c-5ca1972cdb1a"
      },
      "execution_count": null,
      "outputs": [
        {
          "output_type": "execute_result",
          "data": {
            "text/plain": [
              "tensor([[0.0000, 0.0340, 0.9157],\n",
              "        [0.3079, 0.6269, 0.8277]])"
            ]
          },
          "metadata": {},
          "execution_count": 117
        }
      ]
    },
    {
      "cell_type": "code",
      "source": [
        "b"
      ],
      "metadata": {
        "colab": {
          "base_uri": "https://localhost:8080/"
        },
        "id": "-4tihkNkEJW3",
        "outputId": "34f5305c-8dde-426a-e1ac-c7d4de7f2b65"
      },
      "execution_count": null,
      "outputs": [
        {
          "output_type": "execute_result",
          "data": {
            "text/plain": [
              "tensor([[0.0000, 0.0340, 0.9157],\n",
              "        [0.3079, 0.6269, 0.8277]])"
            ]
          },
          "metadata": {},
          "execution_count": 118
        }
      ]
    },
    {
      "cell_type": "code",
      "source": [
        "id(a)"
      ],
      "metadata": {
        "colab": {
          "base_uri": "https://localhost:8080/"
        },
        "id": "m8D9GAChEL7E",
        "outputId": "85b9bc9b-71ca-4bb0-d918-149b6760aa29"
      },
      "execution_count": null,
      "outputs": [
        {
          "output_type": "execute_result",
          "data": {
            "text/plain": [
              "140189685280800"
            ]
          },
          "metadata": {},
          "execution_count": 119
        }
      ]
    },
    {
      "cell_type": "code",
      "source": [
        "id(b)"
      ],
      "metadata": {
        "colab": {
          "base_uri": "https://localhost:8080/"
        },
        "id": "vLh7o5KUEVJS",
        "outputId": "97361590-08d5-468e-af8e-187c7dd37ee5"
      },
      "execution_count": null,
      "outputs": [
        {
          "output_type": "execute_result",
          "data": {
            "text/plain": [
              "140189685280800"
            ]
          },
          "metadata": {},
          "execution_count": 120
        }
      ]
    },
    {
      "cell_type": "code",
      "source": [
        "b = a.clone()"
      ],
      "metadata": {
        "id": "KWDEt8h8EW2i"
      },
      "execution_count": null,
      "outputs": []
    },
    {
      "cell_type": "code",
      "source": [
        "a"
      ],
      "metadata": {
        "colab": {
          "base_uri": "https://localhost:8080/"
        },
        "id": "ndhb6dktEcov",
        "outputId": "7afe95b8-1998-4268-cc8d-f9835bb102ec"
      },
      "execution_count": null,
      "outputs": [
        {
          "output_type": "execute_result",
          "data": {
            "text/plain": [
              "tensor([[0.0000, 0.0340, 0.9157],\n",
              "        [0.3079, 0.6269, 0.8277]])"
            ]
          },
          "metadata": {},
          "execution_count": 122
        }
      ]
    },
    {
      "cell_type": "code",
      "source": [
        "b"
      ],
      "metadata": {
        "colab": {
          "base_uri": "https://localhost:8080/"
        },
        "id": "M1MgVSoXEd2E",
        "outputId": "da17783b-4398-4da3-d99c-73d757f102b6"
      },
      "execution_count": null,
      "outputs": [
        {
          "output_type": "execute_result",
          "data": {
            "text/plain": [
              "tensor([[0.0000, 0.0340, 0.9157],\n",
              "        [0.3079, 0.6269, 0.8277]])"
            ]
          },
          "metadata": {},
          "execution_count": 123
        }
      ]
    },
    {
      "cell_type": "code",
      "source": [
        "a[0][0] = 10"
      ],
      "metadata": {
        "id": "LGxrfDtTEeVI"
      },
      "execution_count": null,
      "outputs": []
    },
    {
      "cell_type": "code",
      "source": [
        "a"
      ],
      "metadata": {
        "colab": {
          "base_uri": "https://localhost:8080/"
        },
        "id": "KoGwR1k2Eg_1",
        "outputId": "f4586712-7376-4c61-82a1-d345639b510e"
      },
      "execution_count": null,
      "outputs": [
        {
          "output_type": "execute_result",
          "data": {
            "text/plain": [
              "tensor([[10.0000,  0.0340,  0.9157],\n",
              "        [ 0.3079,  0.6269,  0.8277]])"
            ]
          },
          "metadata": {},
          "execution_count": 125
        }
      ]
    },
    {
      "cell_type": "code",
      "source": [
        "b"
      ],
      "metadata": {
        "id": "hnmU7qDXEh_R",
        "outputId": "ccd4a731-d509-4790-b956-b2db295a34d8",
        "colab": {
          "base_uri": "https://localhost:8080/"
        }
      },
      "execution_count": null,
      "outputs": [
        {
          "output_type": "execute_result",
          "data": {
            "text/plain": [
              "tensor([[0.0000, 0.0340, 0.9157],\n",
              "        [0.3079, 0.6269, 0.8277]])"
            ]
          },
          "metadata": {},
          "execution_count": 126
        }
      ]
    },
    {
      "cell_type": "code",
      "source": [
        "id(a)"
      ],
      "metadata": {
        "id": "5cy76FS5EjIz",
        "outputId": "389eeca3-27f5-413b-de90-294e379e83bc",
        "colab": {
          "base_uri": "https://localhost:8080/"
        }
      },
      "execution_count": null,
      "outputs": [
        {
          "output_type": "execute_result",
          "data": {
            "text/plain": [
              "140189685280800"
            ]
          },
          "metadata": {},
          "execution_count": 127
        }
      ]
    },
    {
      "cell_type": "code",
      "source": [
        "id(b)"
      ],
      "metadata": {
        "id": "jmBkTNQ8EmP1",
        "outputId": "9752323f-54b6-4fab-ed53-2ddc59fe892a",
        "colab": {
          "base_uri": "https://localhost:8080/"
        }
      },
      "execution_count": null,
      "outputs": [
        {
          "output_type": "execute_result",
          "data": {
            "text/plain": [
              "140189685663136"
            ]
          },
          "metadata": {},
          "execution_count": 128
        }
      ]
    },
    {
      "cell_type": "markdown",
      "source": [
        "# Working with the GPUs"
      ],
      "metadata": {
        "id": "-6ICeHVbjkxK"
      }
    },
    {
      "cell_type": "code",
      "source": [
        "torch.cuda.is_available()"
      ],
      "metadata": {
        "id": "W1SwQS8jEnW2",
        "colab": {
          "base_uri": "https://localhost:8080/"
        },
        "outputId": "2aa40487-9d8d-4957-b354-05f3c9eceeaa"
      },
      "execution_count": null,
      "outputs": [
        {
          "output_type": "execute_result",
          "data": {
            "text/plain": [
              "True"
            ]
          },
          "metadata": {},
          "execution_count": 129
        }
      ]
    },
    {
      "cell_type": "code",
      "source": [],
      "metadata": {
        "id": "XlsvawAxjZXU"
      },
      "execution_count": null,
      "outputs": []
    },
    {
      "cell_type": "code",
      "source": [
        "device = torch.device(\"cuda\" if torch.cuda.is_available() else \"cpu\")"
      ],
      "metadata": {
        "id": "cFNY-78mjgYc"
      },
      "execution_count": null,
      "outputs": []
    },
    {
      "cell_type": "code",
      "source": [
        "torch.rand(2,3 , device=device) # this is build over the gpu"
      ],
      "metadata": {
        "colab": {
          "base_uri": "https://localhost:8080/"
        },
        "id": "Ylzxx1RPjubV",
        "outputId": "144d6682-f7fc-41b3-c56e-daad0c522703"
      },
      "execution_count": null,
      "outputs": [
        {
          "output_type": "execute_result",
          "data": {
            "text/plain": [
              "tensor([[0.3563, 0.0303, 0.7088],\n",
              "        [0.2009, 0.0224, 0.9896]], device='cuda:0')"
            ]
          },
          "metadata": {},
          "execution_count": 132
        }
      ]
    },
    {
      "cell_type": "markdown",
      "source": [],
      "metadata": {
        "id": "IFyuSpFJkZcP"
      }
    },
    {
      "cell_type": "code",
      "source": [
        "torch.rand(2,3) # this is build over the cpu"
      ],
      "metadata": {
        "colab": {
          "base_uri": "https://localhost:8080/"
        },
        "id": "vZ8tHLNPkYNw",
        "outputId": "18a74a67-7069-408d-df89-015239db7148"
      },
      "execution_count": null,
      "outputs": [
        {
          "output_type": "execute_result",
          "data": {
            "text/plain": [
              "tensor([[0.6594, 0.0887, 0.4890],\n",
              "        [0.5887, 0.7340, 0.8497]])"
            ]
          },
          "metadata": {},
          "execution_count": 133
        }
      ]
    },
    {
      "cell_type": "markdown",
      "source": [
        "If something is build over the cput if we want to move over the gpu we have to just use the to"
      ],
      "metadata": {
        "id": "NAsSieyokoj1"
      }
    },
    {
      "cell_type": "code",
      "source": [
        "a = torch.rand(2,3)\n"
      ],
      "metadata": {
        "id": "nvaBgNdDkjqi"
      },
      "execution_count": null,
      "outputs": []
    },
    {
      "cell_type": "code",
      "source": [
        "a"
      ],
      "metadata": {
        "colab": {
          "base_uri": "https://localhost:8080/"
        },
        "id": "gTos76cYkzmo",
        "outputId": "c1310dd1-b3c7-4dcf-fe97-c9cabaa1ca8f"
      },
      "execution_count": null,
      "outputs": [
        {
          "output_type": "execute_result",
          "data": {
            "text/plain": [
              "tensor([[0.9112, 0.4847, 0.9436],\n",
              "        [0.3904, 0.2499, 0.3206]])"
            ]
          },
          "metadata": {},
          "execution_count": 135
        }
      ]
    },
    {
      "cell_type": "code",
      "source": [
        "a.to(device)"
      ],
      "metadata": {
        "colab": {
          "base_uri": "https://localhost:8080/"
        },
        "id": "8VHrH1MMk0lA",
        "outputId": "66deb894-1619-4ac5-fa77-9e37901b7810"
      },
      "execution_count": null,
      "outputs": [
        {
          "output_type": "execute_result",
          "data": {
            "text/plain": [
              "tensor([[0.9112, 0.4847, 0.9436],\n",
              "        [0.3904, 0.2499, 0.3206]], device='cuda:0')"
            ]
          },
          "metadata": {},
          "execution_count": 136
        }
      ]
    },
    {
      "cell_type": "code",
      "source": [
        "a"
      ],
      "metadata": {
        "colab": {
          "base_uri": "https://localhost:8080/"
        },
        "id": "J5OjXXS_k2Y5",
        "outputId": "6fefffce-90b1-4eec-8870-d902764d28b3"
      },
      "execution_count": null,
      "outputs": [
        {
          "output_type": "execute_result",
          "data": {
            "text/plain": [
              "tensor([[0.9112, 0.4847, 0.9436],\n",
              "        [0.3904, 0.2499, 0.3206]])"
            ]
          },
          "metadata": {},
          "execution_count": 137
        }
      ]
    },
    {
      "cell_type": "markdown",
      "source": [
        "What is the diff in the speed in cpu and gpu taking the size of 100"
      ],
      "metadata": {
        "id": "sKssLvCKk33R"
      }
    },
    {
      "cell_type": "code",
      "source": [
        "device = 'cuda'"
      ],
      "metadata": {
        "id": "XeYSrYtmmotp"
      },
      "execution_count": null,
      "outputs": []
    },
    {
      "cell_type": "markdown",
      "source": [
        "CUDA (Compute Unified Device Architecture) is a parallel computing platform and application programming interface (API) model created by Nvidia. It allows software developers and software engineers to use a CUDA-enabled graphics processing unit (GPU) for general purpose processing – an approach called GPGPU (General-Purpose computing on Graphics Processing Units).\n",
        "\n",
        "In the context of the code, cuda refers to the GPU device that PyTorch can use to perform computations. When torch.cuda.is_available() is True, it means that a CUDA-enabled GPU is present and can be used to accelerate computations.\n",
        "Think of the GPU as a powerful engine built for parallel processing (doing many simple tasks at once). However, without the right instructions, this engine doesn't know what to do.\n",
        "\n",
        "CUDA is the key that unlocks that power. It's:\n",
        "\n",
        "A programming interface (API): It provides functions and tools that software developers use to write programs that can run on the GPU. Without CUDA, it would be very difficult for programmers to tell the GPU what calculations to perform.\n",
        "A platform: It includes drivers, libraries, and other software that allow your computer's operating system and programs like PyTorch to communicate with and utilize the GPU's resources effectively.\n",
        "So, in short, CUDA is the bridge between your software (like your PyTorch code) and the GPU's hardware. It allows you to send computationally intensive tasks to the GPU and get the results back, making things much faster for operations that can be done in parallel, like matrix multiplication in deep learning.\n",
        "\n"
      ],
      "metadata": {
        "id": "p3op5IspoB7n"
      }
    },
    {
      "cell_type": "markdown",
      "source": [],
      "metadata": {
        "id": "VPOnykRgo7tY"
      }
    },
    {
      "cell_type": "code",
      "metadata": {
        "colab": {
          "base_uri": "https://localhost:8080/"
        },
        "id": "4a6c2f69",
        "outputId": "5ec94b1b-a9c3-4a47-f0e4-1683b4750d50"
      },
      "source": [
        "import time\n",
        "\n",
        "# Create tensors on CPU and GPU\n",
        "size = 10000\n",
        "a_cpu = torch.rand(size, size)\n",
        "b_cpu = torch.rand(size, size)\n",
        "\n",
        "a_gpu = torch.rand(size, size, device=device)\n",
        "b_gpu = torch.rand(size, size, device=device)\n",
        "\n",
        "# Measure time on CPU\n",
        "start_time_cpu = time.time()\n",
        "result_cpu = torch.matmul(a_cpu, b_cpu)\n",
        "end_time_cpu = time.time()\n",
        "cpu_time = end_time_cpu - start_time_cpu\n",
        "\n",
        "print(f\"Time taken on CPU: {cpu_time:.6f} seconds\")\n",
        "\n",
        "# Measure time on GPU\n",
        "start_time_gpu = time.time()\n",
        "result_gpu = torch.matmul(a_gpu, b_gpu)\n",
        "# Wait for GPU operations to complete\n",
        "torch.cuda.synchronize()\n",
        "end_time_gpu = time.time()\n",
        "gpu_time = end_time_gpu - start_time_gpu\n",
        "\n",
        "print(f\"Time taken on GPU: {gpu_time:.6f} seconds\")"
      ],
      "execution_count": null,
      "outputs": [
        {
          "output_type": "stream",
          "name": "stdout",
          "text": [
            "Time taken on CPU: 24.862242 seconds\n",
            "Time taken on GPU: 0.669955 seconds\n"
          ]
        }
      ]
    },
    {
      "cell_type": "code",
      "source": [
        "import time\n",
        "size = 1000\n"
      ],
      "metadata": {
        "id": "2efEN8A2k53E"
      },
      "execution_count": null,
      "outputs": []
    },
    {
      "cell_type": "markdown",
      "source": [
        "# Reshaping Tensor"
      ],
      "metadata": {
        "id": "c93lvzF9m_T_"
      }
    },
    {
      "cell_type": "code",
      "source": [
        "a = torch.rand(2,3)\n",
        "a"
      ],
      "metadata": {
        "colab": {
          "base_uri": "https://localhost:8080/"
        },
        "id": "heP4NmXclHsF",
        "outputId": "80d18c00-150e-4db3-cef5-c300a058a92e"
      },
      "execution_count": null,
      "outputs": [
        {
          "output_type": "execute_result",
          "data": {
            "text/plain": [
              "tensor([[0.2763, 0.0266, 0.4343],\n",
              "        [0.3342, 0.4034, 0.5468]])"
            ]
          },
          "metadata": {},
          "execution_count": 7
        }
      ]
    },
    {
      "cell_type": "code",
      "source": [
        "a.reshape(3,2)"
      ],
      "metadata": {
        "colab": {
          "base_uri": "https://localhost:8080/"
        },
        "id": "JiqHoxX7nDp-",
        "outputId": "af6e0b4c-cfdd-427b-818a-5a3c01d597b8"
      },
      "execution_count": null,
      "outputs": [
        {
          "output_type": "execute_result",
          "data": {
            "text/plain": [
              "tensor([[0.2763, 0.0266],\n",
              "        [0.4343, 0.3342],\n",
              "        [0.4034, 0.5468]])"
            ]
          },
          "metadata": {},
          "execution_count": 8
        }
      ]
    },
    {
      "cell_type": "code",
      "source": [
        "a.flatten()"
      ],
      "metadata": {
        "colab": {
          "base_uri": "https://localhost:8080/"
        },
        "id": "WReGNcSrnH9X",
        "outputId": "c9f3eb46-0b7d-4145-edeb-a764d1d5b364"
      },
      "execution_count": null,
      "outputs": [
        {
          "output_type": "execute_result",
          "data": {
            "text/plain": [
              "tensor([0.2763, 0.0266, 0.4343, 0.3342, 0.4034, 0.5468])"
            ]
          },
          "metadata": {},
          "execution_count": 9
        }
      ]
    },
    {
      "cell_type": "code",
      "source": [
        "b = torch.rand(2,3,4)\n",
        "b"
      ],
      "metadata": {
        "colab": {
          "base_uri": "https://localhost:8080/"
        },
        "id": "bw-ODe3jnMOX",
        "outputId": "ceb0a9a5-11b3-4cab-a78c-0b3949fac197"
      },
      "execution_count": null,
      "outputs": [
        {
          "output_type": "execute_result",
          "data": {
            "text/plain": [
              "tensor([[[0.3758, 0.5833, 0.0448, 0.1039],\n",
              "         [0.7284, 0.0235, 0.0683, 0.8882],\n",
              "         [0.9408, 0.9314, 0.8212, 0.5911]],\n",
              "\n",
              "        [[0.2724, 0.1219, 0.4207, 0.5489],\n",
              "         [0.1725, 0.2705, 0.6491, 0.5876],\n",
              "         [0.6146, 0.6748, 0.1297, 0.6006]]])"
            ]
          },
          "metadata": {},
          "execution_count": 12
        }
      ]
    },
    {
      "cell_type": "code",
      "source": [
        "# permute\n",
        "b.permute(2,0,1) # changing the positions of the dimensions"
      ],
      "metadata": {
        "colab": {
          "base_uri": "https://localhost:8080/"
        },
        "id": "xiehigvGnR_y",
        "outputId": "ca4886db-53a3-4f9e-fe06-387e45ed15da"
      },
      "execution_count": null,
      "outputs": [
        {
          "output_type": "execute_result",
          "data": {
            "text/plain": [
              "tensor([[[0.3758, 0.7284, 0.9408],\n",
              "         [0.2724, 0.1725, 0.6146]],\n",
              "\n",
              "        [[0.5833, 0.0235, 0.9314],\n",
              "         [0.1219, 0.2705, 0.6748]],\n",
              "\n",
              "        [[0.0448, 0.0683, 0.8212],\n",
              "         [0.4207, 0.6491, 0.1297]],\n",
              "\n",
              "        [[0.1039, 0.8882, 0.5911],\n",
              "         [0.5489, 0.5876, 0.6006]]])"
            ]
          },
          "metadata": {},
          "execution_count": 14
        }
      ]
    },
    {
      "cell_type": "code",
      "metadata": {
        "colab": {
          "base_uri": "https://localhost:8080/"
        },
        "id": "8eefc19a",
        "outputId": "4c0ecae6-63b6-49cd-d6e5-f813e3c560dc"
      },
      "source": [
        "import torch\n",
        "\n",
        "# Create a simple tensor\n",
        "a = torch.arange(12).reshape(2, 6)\n",
        "print(\"Original tensor 'a':\")\n",
        "print(a)\n",
        "print(\"Original shape of 'a':\", a.shape)"
      ],
      "execution_count": null,
      "outputs": [
        {
          "output_type": "stream",
          "name": "stdout",
          "text": [
            "Original tensor 'a':\n",
            "tensor([[ 0,  1,  2,  3,  4,  5],\n",
            "        [ 6,  7,  8,  9, 10, 11]])\n",
            "Original shape of 'a': torch.Size([2, 6])\n"
          ]
        }
      ]
    },
    {
      "cell_type": "markdown",
      "metadata": {
        "id": "9e12e9d4"
      },
      "source": [
        "Let's start with a simple 2x6 tensor. The elements are arranged row by row in memory."
      ]
    },
    {
      "cell_type": "code",
      "metadata": {
        "colab": {
          "base_uri": "https://localhost:8080/"
        },
        "id": "61ed75b3",
        "outputId": "d47eaf53-c68b-49fc-d3c8-aed04879f354"
      },
      "source": [
        "# Using reshape to change the shape\n",
        "a_reshaped = a.reshape(3, 4)\n",
        "print(\"\\nTensor after reshape(3, 4):\")\n",
        "print(a_reshaped)\n",
        "print(\"Shape after reshape:\", a_reshaped.shape)\n",
        "print(\"Is reshaped tensor a view of the original?\", a_reshaped._is_view())"
      ],
      "execution_count": null,
      "outputs": [
        {
          "output_type": "stream",
          "name": "stdout",
          "text": [
            "\n",
            "Tensor after reshape(3, 4):\n",
            "tensor([[ 0,  1,  2,  3],\n",
            "        [ 4,  5,  6,  7],\n",
            "        [ 8,  9, 10, 11]])\n",
            "Shape after reshape: torch.Size([3, 4])\n",
            "Is reshaped tensor a view of the original? True\n"
          ]
        }
      ]
    },
    {
      "cell_type": "markdown",
      "metadata": {
        "id": "aece3bcd"
      },
      "source": [
        "Here, we reshape the 2x6 tensor into a 3x4 tensor. Since the total number of elements (12) is the same, and the original data was contiguous in a way that allows this new shape, `reshape` creates a view. The data is still in the same order in memory, but it's interpreted as 3 rows and 4 columns."
      ]
    },
    {
      "cell_type": "code",
      "metadata": {
        "colab": {
          "base_uri": "https://localhost:8080/"
        },
        "id": "79271409",
        "outputId": "4d01fe67-8f81-48e3-c950-644abeac51d0"
      },
      "source": [
        "# Using permute to change the dimension order\n",
        "b = torch.arange(12).reshape(2, 2, 3)\n",
        "print(\"\\nOriginal tensor 'b':\")\n",
        "print(b)\n",
        "print(\"Original shape of 'b':\", b.shape)\n",
        "\n",
        "b_permuted = b.permute(2, 0, 1)\n",
        "print(\"\\nTensor after permute(2, 0, 1):\")\n",
        "print(b_permuted)\n",
        "print(\"Shape after permute:\", b_permuted.shape)\n",
        "print(\"Is permuted tensor a view of the original?\", b_permuted._is_view())"
      ],
      "execution_count": null,
      "outputs": [
        {
          "output_type": "stream",
          "name": "stdout",
          "text": [
            "\n",
            "Original tensor 'b':\n",
            "tensor([[[ 0,  1,  2],\n",
            "         [ 3,  4,  5]],\n",
            "\n",
            "        [[ 6,  7,  8],\n",
            "         [ 9, 10, 11]]])\n",
            "Original shape of 'b': torch.Size([2, 2, 3])\n",
            "\n",
            "Tensor after permute(2, 0, 1):\n",
            "tensor([[[ 0,  3],\n",
            "         [ 6,  9]],\n",
            "\n",
            "        [[ 1,  4],\n",
            "         [ 7, 10]],\n",
            "\n",
            "        [[ 2,  5],\n",
            "         [ 8, 11]]])\n",
            "Shape after permute: torch.Size([3, 2, 2])\n",
            "Is permuted tensor a view of the original? True\n"
          ]
        }
      ]
    },
    {
      "cell_type": "markdown",
      "metadata": {
        "id": "787aa28b"
      },
      "source": [
        "Now, let's use a 3D tensor `b` with shape (2, 2, 3). When we `permute(2, 0, 1)`, we are changing the order of the dimensions. The original dimension at index 2 (size 3) becomes the new dimension at index 0. The original dimension at index 0 (size 2) becomes the new dimension at index 1. The original dimension at index 1 (size 2) becomes the new dimension at index 2. `permute` always returns a view."
      ]
    },
    {
      "cell_type": "code",
      "metadata": {
        "colab": {
          "base_uri": "https://localhost:8080/"
        },
        "id": "b60ac680",
        "outputId": "98992945-2212-47b5-b018-de8cbe38a4d9"
      },
      "source": [
        "# Demonstrating how modifying a view affects the original tensor\n",
        "print(\"\\nOriginal tensor 'a' before modification:\")\n",
        "print(a)\n",
        "a_reshaped[0, 0] = 99\n",
        "print(\"\\nOriginal tensor 'a' after modifying reshaped view:\")\n",
        "print(a)\n",
        "\n",
        "print(\"\\nOriginal tensor 'b' before modification:\")\n",
        "print(b)\n",
        "b_permuted[0, 0, 0] = 88\n",
        "print(\"\\nOriginal tensor 'b' after modifying permuted view:\")\n",
        "print(b)"
      ],
      "execution_count": null,
      "outputs": [
        {
          "output_type": "stream",
          "name": "stdout",
          "text": [
            "\n",
            "Original tensor 'a' before modification:\n",
            "tensor([[ 0,  1,  2,  3,  4,  5],\n",
            "        [ 6,  7,  8,  9, 10, 11]])\n",
            "\n",
            "Original tensor 'a' after modifying reshaped view:\n",
            "tensor([[99,  1,  2,  3,  4,  5],\n",
            "        [ 6,  7,  8,  9, 10, 11]])\n",
            "\n",
            "Original tensor 'b' before modification:\n",
            "tensor([[[ 0,  1,  2],\n",
            "         [ 3,  4,  5]],\n",
            "\n",
            "        [[ 6,  7,  8],\n",
            "         [ 9, 10, 11]]])\n",
            "\n",
            "Original tensor 'b' after modifying permuted view:\n",
            "tensor([[[88,  1,  2],\n",
            "         [ 3,  4,  5]],\n",
            "\n",
            "        [[ 6,  7,  8],\n",
            "         [ 9, 10, 11]]])\n"
          ]
        }
      ]
    },
    {
      "cell_type": "markdown",
      "metadata": {
        "id": "2a30161f"
      },
      "source": [
        "This example shows that both `reshape` (when it returns a view) and `permute` return views, meaning changes to the new tensor are reflected in the original tensor because they share the same underlying data."
      ]
    },
    {
      "cell_type": "code",
      "metadata": {
        "colab": {
          "base_uri": "https://localhost:8080/"
        },
        "id": "111939be",
        "outputId": "ae656416-f16c-44b6-b56c-5f13c0bc813b"
      },
      "source": [
        "# Demonstrating reshape creating a copy when data is not contiguous\n",
        "# Let's permute 'a' first, which can make it non-contiguous in certain dimensions\n",
        "a_transposed = a.transpose(0, 1) # Transpose is a type of permute\n",
        "print(\"\\nTensor 'a' after transpose (a type of permute):\")\n",
        "print(a_transposed)\n",
        "print(\"Is transposed tensor contiguous?\", a_transposed.is_contiguous())\n",
        "\n",
        "# Now try to reshape the transposed tensor\n",
        "# This reshape will likely create a copy because the transposed data is not contiguous in the required order\n",
        "a_transposed_reshaped = a_transposed.reshape(3, 4)\n",
        "print(\"\\nTensor after reshaping transposed tensor:\")\n",
        "print(a_transposed_reshaped)\n",
        "print(\"Is reshaped transposed tensor a view?\", a_transposed_reshaped._is_view())"
      ],
      "execution_count": null,
      "outputs": [
        {
          "output_type": "stream",
          "name": "stdout",
          "text": [
            "\n",
            "Tensor 'a' after transpose (a type of permute):\n",
            "tensor([[99,  6],\n",
            "        [ 1,  7],\n",
            "        [ 2,  8],\n",
            "        [ 3,  9],\n",
            "        [ 4, 10],\n",
            "        [ 5, 11]])\n",
            "Is transposed tensor contiguous? False\n",
            "\n",
            "Tensor after reshaping transposed tensor:\n",
            "tensor([[99,  6,  1,  7],\n",
            "        [ 2,  8,  3,  9],\n",
            "        [ 4, 10,  5, 11]])\n",
            "Is reshaped transposed tensor a view? False\n"
          ]
        }
      ]
    },
    {
      "cell_type": "markdown",
      "metadata": {
        "id": "b37f0ea7"
      },
      "source": [
        "Finally, this example shows a case where `reshape` might create a copy. After transposing tensor `a`, the data in memory is no longer in a simple row-by-row order. When we then try to `reshape` it into 3x4, PyTorch needs to create a new contiguous block of memory and copy the data into it to form the new shape. This is why `_is_view()` returns `False`."
      ]
    },
    {
      "cell_type": "markdown",
      "source": [
        "we can alsod do the reshape right with d.resahpe(4,2,3) what is diff\n",
        "That's a great question! While both reshape() and permute() can change the \"look\" of your tensor, they do so in fundamentally different ways, which is important for performance and how your data is accessed.\n",
        "\n",
        "Here's the key difference:\n",
        "\n",
        "reshape(): This method changes the shape of the tensor while keeping the underlying data contiguous in memory (if possible). It's like taking a block of building bricks and rearranging them into a new shape without changing the order of the bricks in the original pile. If the new shape is compatible with the original data's memory layout, reshape returns a view of the original tensor, meaning no new memory is allocated. If it's not compatible, it will create a copy.\n",
        "permute(): This method changes the order of the dimensions of the tensor. It doesn't change the total number of elements or their order in the underlying memory. Instead, it changes how PyTorch interprets the dimensions. Think of it like changing the labels on the sides of a box without actually moving the contents inside. permute always returns a view of the original tensor.\n",
        "In your example:\n",
        "\n",
        "b.permute(2, 0, 1) changes the order of the dimensions from (2, 3, 4) to (4, 2, 3). The data in memory stays the same, but when you access b_permuted[i][j][k], PyTorch calculates which element in the original memory block that corresponds to based on the new dimension order.\n",
        "b.reshape(4, 2, 3) also changes the shape to (4, 2, 3). If the original data in b was stored contiguously in a way that fits this new shape, reshape would likely return a view. However, if the data in b is not contiguous in that specific way (which can happen after operations like permute), reshape might need to create a copy of the data in a new contiguous block of memory to achieve the desired shape.\n",
        "Why does this matter?\n",
        "\n",
        "Performance: Operations on contiguous tensors are generally faster because the data is laid out sequentially in memory, which is efficient for the computer's cache. permute doesn't guarantee contiguity in the new dimension order, so subsequent operations on a permuted tensor might be slower if they require contiguous data. reshape can sometimes be slower if it needs to create a copy to make the data contiguous.\n",
        "Views vs. Copies: permute always returns a view. reshape returns a view if possible, but a copy if necessary. If you modify a view, you modify the original tensor. If you modify a copy, you don't.\n",
        "In summary, use permute when you just want to change the order of existing dimensions without changing the underlying memory layout. Use reshape when you want to change the shape of the tensor, and PyTorch will figure out the best way to do it, potentially making a copy to ensure contiguity if needed."
      ],
      "metadata": {
        "id": "vdiAjYlBrm0d"
      }
    },
    {
      "cell_type": "code",
      "source": [
        "b"
      ],
      "metadata": {
        "colab": {
          "base_uri": "https://localhost:8080/"
        },
        "id": "UdvOhx9jpUw6",
        "outputId": "4517e8da-9639-4fd6-87a9-8315161f27cf"
      },
      "execution_count": null,
      "outputs": [
        {
          "output_type": "execute_result",
          "data": {
            "text/plain": [
              "tensor([[[0.3758, 0.5833, 0.0448, 0.1039],\n",
              "         [0.7284, 0.0235, 0.0683, 0.8882],\n",
              "         [0.9408, 0.9314, 0.8212, 0.5911]],\n",
              "\n",
              "        [[0.2724, 0.1219, 0.4207, 0.5489],\n",
              "         [0.1725, 0.2705, 0.6491, 0.5876],\n",
              "         [0.6146, 0.6748, 0.1297, 0.6006]]])"
            ]
          },
          "metadata": {},
          "execution_count": 16
        }
      ]
    },
    {
      "cell_type": "code",
      "metadata": {
        "colab": {
          "base_uri": "https://localhost:8080/"
        },
        "id": "5b0d58fb",
        "outputId": "8581456d-4e16-4fad-f613-7af977661847"
      },
      "source": [
        "# Create a 1D tensor\n",
        "a = torch.tensor([1, 2, 3, 4])\n",
        "print(\"Original tensor 'a':\")\n",
        "print(a)\n",
        "print(\"Original shape of 'a':\", a.shape)\n",
        "\n",
        "# Unsqueeze at dimension 0\n",
        "a_unsqueeze_0 = a.unsqueeze(0)\n",
        "print(\"\\nTensor after unsqueeze(0):\")\n",
        "print(a_unsqueeze_0)\n",
        "print(\"Shape after unsqueeze(0):\", a_unsqueeze_0.shape)\n",
        "\n",
        "# Unsqueeze at dimension 1\n",
        "a_unsqueeze_1 = a.unsqueeze(1)\n",
        "print(\"\\nTensor after unsqueeze(1):\")\n",
        "print(a_unsqueeze_1)\n",
        "print(\"Shape after unsqueeze(1):\", a_unsqueeze_1.shape)"
      ],
      "execution_count": null,
      "outputs": [
        {
          "output_type": "stream",
          "name": "stdout",
          "text": [
            "Original tensor 'a':\n",
            "tensor([1, 2, 3, 4])\n",
            "Original shape of 'a': torch.Size([4])\n",
            "\n",
            "Tensor after unsqueeze(0):\n",
            "tensor([[1, 2, 3, 4]])\n",
            "Shape after unsqueeze(0): torch.Size([1, 4])\n",
            "\n",
            "Tensor after unsqueeze(1):\n",
            "tensor([[1],\n",
            "        [2],\n",
            "        [3],\n",
            "        [4]])\n",
            "Shape after unsqueeze(1): torch.Size([4, 1])\n"
          ]
        }
      ]
    },
    {
      "cell_type": "markdown",
      "metadata": {
        "id": "6bcfc810"
      },
      "source": [
        "The `unsqueeze()` method adds a new dimension of size 1 to a tensor at the specified `dim` (dimension).\n",
        "\n",
        "In the example:\n",
        "- We start with a 1D tensor `a` with shape `(4,)`.\n",
        "- `a.unsqueeze(0)` adds a new dimension at the beginning (index 0), resulting in a tensor with shape `(1, 4)`. This is often used to add a batch dimension.\n",
        "- `a.unsqueeze(1)` adds a new dimension at index 1, resulting in a tensor with shape `(4, 1)`. This can be useful for operations that expect a column vector.\n",
        "\n",
        "The new dimension of size 1 doesn't change the number of elements in the tensor, only how its shape is represented. `unsqueeze` always returns a view of the original tensor."
      ]
    },
    {
      "cell_type": "markdown",
      "source": [
        "Okay, let's look at unsqueeze(). This operation is used to add a dimension of size 1 to a tensor at a specific position. This is particularly useful when you need to match the dimensions of tensors for certain operations or when preparing data for models that expect a specific number of dimensions (like a batch dimension).\n",
        "\n",
        "Great! Now you have an example and explanation for unsqueeze().\n",
        "\n",
        "Would you like to explore more tensor operations, such as:\n",
        "\n",
        "Squeezing tensors: The opposite of unsqueezing, to remove dimensions of size 1.\n",
        "Slicing and indexing: Accessing parts of a tensor.\n",
        "Broadcasting: How operations work with tensors of different shapes.\n",
        "Tensor concatenation and stacking: Combining tensors."
      ],
      "metadata": {
        "id": "gX286ygrsa-m"
      }
    },
    {
      "cell_type": "markdown",
      "source": [
        "That's a good question! unsqueeze() is useful in several situations, primarily when you need to match the dimensions of tensors for operations or when dealing with models that expect a specific input shape. Here are a few common scenarios:\n",
        "\n",
        "Adding a Batch Dimension: Many deep learning models expect input tensors to have a batch dimension at the beginning. If you have a single image or a single sequence of data, it might have a shape like (channels, height, width) or (sequence_length, features). You would use unsqueeze(0) to add a batch dimension, making the shape (1, channels, height, width) or (1, sequence_length, features).\n",
        "Broadcasting: unsqueeze() can be used to make tensors compatible for broadcasting operations. Broadcasting allows PyTorch to perform operations on tensors with different shapes by \"stretching\" the smaller tensor to match the larger one. Adding a dimension of size 1 with unsqueeze() can help align the dimensions so broadcasting can occur correctly.\n",
        "Matrix Multiplication and Linear Algebra: Sometimes, linear algebra operations require specific tensor shapes (e.g., a column vector vs. a row vector). unsqueeze() can be used to add a dimension to create the required shape for these operations. For example, if you have a 1D tensor a of shape (n,) and you want to perform a matrix multiplication with a matrix M of shape (m, n), you might need to unsqueeze(1) a to make it a column vector of shape (n, 1) so that M @ a.unsqueeze(1) is a valid operation.\n",
        "Working with Convolutional Layers: Convolutional layers in neural networks typically expect input in a specific format, often with a channel dimension. If your data doesn't have this dimension (e.g., a grayscale image), you might need to unsqueeze() to add a channel dimension of size 1.\n",
        "In essence, you use unsqueeze() whenever you have a tensor and you need to add a dimension of size 1 to its shape at a particular position to satisfy the requirements of an operation, a function, or a model."
      ],
      "metadata": {
        "id": "1SML9GlssjU2"
      }
    },
    {
      "cell_type": "code",
      "metadata": {
        "colab": {
          "base_uri": "https://localhost:8080/"
        },
        "id": "f0c0fd15",
        "outputId": "12ddfef2-8c33-4e3b-b251-4d8a61faa1b9"
      },
      "source": [
        "import numpy as np\n",
        "\n",
        "# Create a NumPy array\n",
        "numpy_array = np.array([1, 2, 3, 4, 5])\n",
        "print(\"NumPy array:\", numpy_array)\n",
        "print(\"Type of NumPy array:\", type(numpy_array))\n",
        "\n",
        "# Convert NumPy array to PyTorch tensor\n",
        "torch_tensor = torch.from_numpy(numpy_array)\n",
        "print(\"\\nPyTorch tensor:\", torch_tensor)\n",
        "print(\"Type of PyTorch tensor:\", type(torch_tensor))"
      ],
      "execution_count": null,
      "outputs": [
        {
          "output_type": "stream",
          "name": "stdout",
          "text": [
            "NumPy array: [1 2 3 4 5]\n",
            "Type of NumPy array: <class 'numpy.ndarray'>\n",
            "\n",
            "PyTorch tensor: tensor([1, 2, 3, 4, 5])\n",
            "Type of PyTorch tensor: <class 'torch.Tensor'>\n"
          ]
        }
      ]
    },
    {
      "cell_type": "code",
      "metadata": {
        "colab": {
          "base_uri": "https://localhost:8080/"
        },
        "id": "bb7d5ae9",
        "outputId": "bf4f2ae3-40f5-4511-b606-33e42085ec7e"
      },
      "source": [
        "# Create a tensor with dimensions of size 1\n",
        "b = torch.zeros(1, 2, 1, 3, 1)\n",
        "print(\"Original tensor 'b':\")\n",
        "print(b)\n",
        "print(\"Original shape of 'b':\", b.shape)\n",
        "\n",
        "# Squeeze all dimensions of size 1\n",
        "b_squeezed = b.squeeze()\n",
        "print(\"\\nTensor after squeeze():\")\n",
        "print(b_squeezed)\n",
        "print(\"Shape after squeeze():\", b_squeezed.shape)\n",
        "\n",
        "# Squeeze a specific dimension\n",
        "b_squeezed_dim1 = b.squeeze(1)\n",
        "print(\"\\nTensor after squeeze(1):\")\n",
        "print(b_squeezed_dim1)\n",
        "print(\"Shape after squeeze(1):\", b_squeezed_dim1.shape)\n",
        "\n",
        "# Squeeze another specific dimension\n",
        "b_squeezed_dim4 = b.squeeze(4)\n",
        "print(\"\\nTensor after squeeze(4):\")\n",
        "print(b_squeezed_dim4)\n",
        "print(\"Shape after squeeze(4):\", b_squeezed_dim4.shape)"
      ],
      "execution_count": null,
      "outputs": [
        {
          "output_type": "stream",
          "name": "stdout",
          "text": [
            "Original tensor 'b':\n",
            "tensor([[[[[0.],\n",
            "           [0.],\n",
            "           [0.]]],\n",
            "\n",
            "\n",
            "         [[[0.],\n",
            "           [0.],\n",
            "           [0.]]]]])\n",
            "Original shape of 'b': torch.Size([1, 2, 1, 3, 1])\n",
            "\n",
            "Tensor after squeeze():\n",
            "tensor([[0., 0., 0.],\n",
            "        [0., 0., 0.]])\n",
            "Shape after squeeze(): torch.Size([2, 3])\n",
            "\n",
            "Tensor after squeeze(1):\n",
            "tensor([[[[[0.],\n",
            "           [0.],\n",
            "           [0.]]],\n",
            "\n",
            "\n",
            "         [[[0.],\n",
            "           [0.],\n",
            "           [0.]]]]])\n",
            "Shape after squeeze(1): torch.Size([1, 2, 1, 3, 1])\n",
            "\n",
            "Tensor after squeeze(4):\n",
            "tensor([[[[0., 0., 0.]],\n",
            "\n",
            "         [[0., 0., 0.]]]])\n",
            "Shape after squeeze(4): torch.Size([1, 2, 1, 3])\n"
          ]
        }
      ]
    },
    {
      "cell_type": "markdown",
      "metadata": {
        "id": "5c2e1b8f"
      },
      "source": [
        "The `squeeze()` method removes dimensions of size 1 from a tensor.\n",
        "\n",
        "- When called without any arguments (`b.squeeze()`), it removes all dimensions of size 1.\n",
        "- When called with a specific dimension (`b.squeeze(dim)`), it removes the dimension at the specified index *only if* that dimension has a size of 1. If the dimension's size is not 1, the tensor remains unchanged.\n",
        "\n",
        "In the example:\n",
        "- We start with a tensor `b` with shape `(1, 2, 1, 3, 1)`. It has dimensions of size 1 at indices 0, 2, and 4.\n",
        "- `b.squeeze()` removes all dimensions of size 1, resulting in a tensor with shape `(2, 3)`.\n",
        "- `b.squeeze(1)` attempts to remove the dimension at index 1. Since this dimension has a size of 2 (not 1), it is not removed, and the shape remains `(1, 2, 1, 3, 1)`.\n",
        "- `b.squeeze(4)` attempts to remove the dimension at index 4. Since this dimension has a size of 1, it is removed, resulting in a tensor with shape `(1, 2, 1, 3)`.\n",
        "\n",
        "`squeeze()` also returns a view of the original tensor if the operation is possible without changing the data's memory layout."
      ]
    }
  ]
}